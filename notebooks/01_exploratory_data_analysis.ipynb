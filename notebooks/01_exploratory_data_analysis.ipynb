{
 "cells": [
  {
   "cell_type": "code",
   "execution_count": 0,
   "metadata": {
    "application/vnd.databricks.v1+cell": {
     "cellMetadata": {
      "byteLimit": 2048000,
      "rowLimit": 10000
     },
     "inputWidgets": {},
     "nuid": "575b6884-b92c-4ac3-8600-a97b879e8d5d",
     "showTitle": false,
     "tableResultSettingsMap": {},
     "title": ""
    }
   },
   "outputs": [],
   "source": [
    "import sys\n",
    "sys.path.append(\"/Workspace/Users/dhruvyellanki00@gmail.com/Credit_Default_Risk_Pipeline_Databricks_PySpark_MLflow/scripts\")"
   ]
  },
  {
   "cell_type": "code",
   "execution_count": 0,
   "metadata": {
    "application/vnd.databricks.v1+cell": {
     "cellMetadata": {
      "byteLimit": 2048000,
      "rowLimit": 10000
     },
     "inputWidgets": {},
     "nuid": "48a706c7-3fbe-4453-b188-8d0e349639cf",
     "showTitle": false,
     "tableResultSettingsMap": {},
     "title": ""
    }
   },
   "outputs": [],
   "source": [
    "from spark_setup import get_spark_session\n",
    "spark = get_spark_session()"
   ]
  },
  {
   "cell_type": "code",
   "execution_count": 0,
   "metadata": {
    "application/vnd.databricks.v1+cell": {
     "cellMetadata": {
      "byteLimit": 2048000,
      "rowLimit": 10000
     },
     "inputWidgets": {},
     "nuid": "ffe856ad-a6b1-4eff-8f3b-e039b0d53b42",
     "showTitle": false,
     "tableResultSettingsMap": {},
     "title": ""
    }
   },
   "outputs": [
    {
     "output_type": "stream",
     "name": "stdout",
     "output_type": "stream",
     "text": [
      "root\n |-- SK_ID_CURR: integer (nullable = true)\n |-- TARGET: integer (nullable = true)\n |-- NAME_CONTRACT_TYPE: string (nullable = true)\n |-- CODE_GENDER: string (nullable = true)\n |-- FLAG_OWN_CAR: string (nullable = true)\n |-- FLAG_OWN_REALTY: string (nullable = true)\n |-- CNT_CHILDREN: integer (nullable = true)\n |-- AMT_INCOME_TOTAL: double (nullable = true)\n |-- AMT_CREDIT: double (nullable = true)\n |-- AMT_ANNUITY: double (nullable = true)\n |-- AMT_GOODS_PRICE: double (nullable = true)\n |-- NAME_TYPE_SUITE: string (nullable = true)\n |-- NAME_INCOME_TYPE: string (nullable = true)\n |-- NAME_EDUCATION_TYPE: string (nullable = true)\n |-- NAME_FAMILY_STATUS: string (nullable = true)\n |-- NAME_HOUSING_TYPE: string (nullable = true)\n |-- REGION_POPULATION_RELATIVE: double (nullable = true)\n |-- DAYS_BIRTH: integer (nullable = true)\n |-- DAYS_EMPLOYED: integer (nullable = true)\n |-- DAYS_REGISTRATION: double (nullable = true)\n |-- DAYS_ID_PUBLISH: integer (nullable = true)\n |-- OWN_CAR_AGE: double (nullable = true)\n |-- FLAG_MOBIL: integer (nullable = true)\n |-- FLAG_EMP_PHONE: integer (nullable = true)\n |-- FLAG_WORK_PHONE: integer (nullable = true)\n |-- FLAG_CONT_MOBILE: integer (nullable = true)\n |-- FLAG_PHONE: integer (nullable = true)\n |-- FLAG_EMAIL: integer (nullable = true)\n |-- OCCUPATION_TYPE: string (nullable = true)\n |-- CNT_FAM_MEMBERS: double (nullable = true)\n |-- REGION_RATING_CLIENT: integer (nullable = true)\n |-- REGION_RATING_CLIENT_W_CITY: integer (nullable = true)\n |-- WEEKDAY_APPR_PROCESS_START: string (nullable = true)\n |-- HOUR_APPR_PROCESS_START: integer (nullable = true)\n |-- REG_REGION_NOT_LIVE_REGION: integer (nullable = true)\n |-- REG_REGION_NOT_WORK_REGION: integer (nullable = true)\n |-- LIVE_REGION_NOT_WORK_REGION: integer (nullable = true)\n |-- REG_CITY_NOT_LIVE_CITY: integer (nullable = true)\n |-- REG_CITY_NOT_WORK_CITY: integer (nullable = true)\n |-- LIVE_CITY_NOT_WORK_CITY: integer (nullable = true)\n |-- ORGANIZATION_TYPE: string (nullable = true)\n |-- EXT_SOURCE_1: double (nullable = true)\n |-- EXT_SOURCE_2: double (nullable = true)\n |-- EXT_SOURCE_3: double (nullable = true)\n |-- APARTMENTS_AVG: double (nullable = true)\n |-- BASEMENTAREA_AVG: double (nullable = true)\n |-- YEARS_BEGINEXPLUATATION_AVG: double (nullable = true)\n |-- YEARS_BUILD_AVG: double (nullable = true)\n |-- COMMONAREA_AVG: double (nullable = true)\n |-- ELEVATORS_AVG: double (nullable = true)\n |-- ENTRANCES_AVG: double (nullable = true)\n |-- FLOORSMAX_AVG: double (nullable = true)\n |-- FLOORSMIN_AVG: double (nullable = true)\n |-- LANDAREA_AVG: double (nullable = true)\n |-- LIVINGAPARTMENTS_AVG: double (nullable = true)\n |-- LIVINGAREA_AVG: double (nullable = true)\n |-- NONLIVINGAPARTMENTS_AVG: double (nullable = true)\n |-- NONLIVINGAREA_AVG: double (nullable = true)\n |-- APARTMENTS_MODE: double (nullable = true)\n |-- BASEMENTAREA_MODE: double (nullable = true)\n |-- YEARS_BEGINEXPLUATATION_MODE: double (nullable = true)\n |-- YEARS_BUILD_MODE: double (nullable = true)\n |-- COMMONAREA_MODE: double (nullable = true)\n |-- ELEVATORS_MODE: double (nullable = true)\n |-- ENTRANCES_MODE: double (nullable = true)\n |-- FLOORSMAX_MODE: double (nullable = true)\n |-- FLOORSMIN_MODE: double (nullable = true)\n |-- LANDAREA_MODE: double (nullable = true)\n |-- LIVINGAPARTMENTS_MODE: double (nullable = true)\n |-- LIVINGAREA_MODE: double (nullable = true)\n |-- NONLIVINGAPARTMENTS_MODE: double (nullable = true)\n |-- NONLIVINGAREA_MODE: double (nullable = true)\n |-- APARTMENTS_MEDI: double (nullable = true)\n |-- BASEMENTAREA_MEDI: double (nullable = true)\n |-- YEARS_BEGINEXPLUATATION_MEDI: double (nullable = true)\n |-- YEARS_BUILD_MEDI: double (nullable = true)\n |-- COMMONAREA_MEDI: double (nullable = true)\n |-- ELEVATORS_MEDI: double (nullable = true)\n |-- ENTRANCES_MEDI: double (nullable = true)\n |-- FLOORSMAX_MEDI: double (nullable = true)\n |-- FLOORSMIN_MEDI: double (nullable = true)\n |-- LANDAREA_MEDI: double (nullable = true)\n |-- LIVINGAPARTMENTS_MEDI: double (nullable = true)\n |-- LIVINGAREA_MEDI: double (nullable = true)\n |-- NONLIVINGAPARTMENTS_MEDI: double (nullable = true)\n |-- NONLIVINGAREA_MEDI: double (nullable = true)\n |-- FONDKAPREMONT_MODE: string (nullable = true)\n |-- HOUSETYPE_MODE: string (nullable = true)\n |-- TOTALAREA_MODE: double (nullable = true)\n |-- WALLSMATERIAL_MODE: string (nullable = true)\n |-- EMERGENCYSTATE_MODE: string (nullable = true)\n |-- OBS_30_CNT_SOCIAL_CIRCLE: double (nullable = true)\n |-- DEF_30_CNT_SOCIAL_CIRCLE: double (nullable = true)\n |-- OBS_60_CNT_SOCIAL_CIRCLE: double (nullable = true)\n |-- DEF_60_CNT_SOCIAL_CIRCLE: double (nullable = true)\n |-- DAYS_LAST_PHONE_CHANGE: double (nullable = true)\n |-- FLAG_DOCUMENT_2: integer (nullable = true)\n |-- FLAG_DOCUMENT_3: integer (nullable = true)\n |-- FLAG_DOCUMENT_4: integer (nullable = true)\n |-- FLAG_DOCUMENT_5: integer (nullable = true)\n |-- FLAG_DOCUMENT_6: integer (nullable = true)\n |-- FLAG_DOCUMENT_7: integer (nullable = true)\n |-- FLAG_DOCUMENT_8: integer (nullable = true)\n |-- FLAG_DOCUMENT_9: integer (nullable = true)\n |-- FLAG_DOCUMENT_10: integer (nullable = true)\n |-- FLAG_DOCUMENT_11: integer (nullable = true)\n |-- FLAG_DOCUMENT_12: integer (nullable = true)\n |-- FLAG_DOCUMENT_13: integer (nullable = true)\n |-- FLAG_DOCUMENT_14: integer (nullable = true)\n |-- FLAG_DOCUMENT_15: integer (nullable = true)\n |-- FLAG_DOCUMENT_16: integer (nullable = true)\n |-- FLAG_DOCUMENT_17: integer (nullable = true)\n |-- FLAG_DOCUMENT_18: integer (nullable = true)\n |-- FLAG_DOCUMENT_19: integer (nullable = true)\n |-- FLAG_DOCUMENT_20: integer (nullable = true)\n |-- FLAG_DOCUMENT_21: integer (nullable = true)\n |-- AMT_REQ_CREDIT_BUREAU_HOUR: double (nullable = true)\n |-- AMT_REQ_CREDIT_BUREAU_DAY: double (nullable = true)\n |-- AMT_REQ_CREDIT_BUREAU_WEEK: double (nullable = true)\n |-- AMT_REQ_CREDIT_BUREAU_MON: double (nullable = true)\n |-- AMT_REQ_CREDIT_BUREAU_QRT: double (nullable = true)\n |-- AMT_REQ_CREDIT_BUREAU_YEAR: double (nullable = true)\n\n"
     ]
    }
   ],
   "source": [
    "# Read from registered Delta table\n",
    "application_df = spark.read.table(\"workspace.credit_risk_data_delta.application_train\")\n",
    "application_df.printSchema()"
   ]
  },
  {
   "cell_type": "code",
   "execution_count": 0,
   "metadata": {
    "application/vnd.databricks.v1+cell": {
     "cellMetadata": {
      "byteLimit": 2048000,
      "rowLimit": 10000
     },
     "inputWidgets": {},
     "nuid": "760527f3-6065-4df5-9a5f-0091a59eb0d9",
     "showTitle": false,
     "tableResultSettingsMap": {},
     "title": ""
    }
   },
   "outputs": [
    {
     "output_type": "display_data",
     "data": {
      "text/html": [
       "<style scoped>\n",
       "  .table-result-container {\n",
       "    max-height: 300px;\n",
       "    overflow: auto;\n",
       "  }\n",
       "  table, th, td {\n",
       "    border: 1px solid black;\n",
       "    border-collapse: collapse;\n",
       "  }\n",
       "  th, td {\n",
       "    padding: 5px;\n",
       "  }\n",
       "  th {\n",
       "    text-align: left;\n",
       "  }\n",
       "</style><div class='table-result-container'><table class='table-result'><thead style='background-color: white'><tr><th>SK_ID_CURR</th><th>TARGET</th><th>NAME_CONTRACT_TYPE</th><th>CODE_GENDER</th><th>FLAG_OWN_CAR</th><th>FLAG_OWN_REALTY</th><th>CNT_CHILDREN</th><th>AMT_INCOME_TOTAL</th><th>AMT_CREDIT</th><th>AMT_ANNUITY</th><th>AMT_GOODS_PRICE</th><th>NAME_TYPE_SUITE</th><th>NAME_INCOME_TYPE</th><th>NAME_EDUCATION_TYPE</th><th>NAME_FAMILY_STATUS</th><th>NAME_HOUSING_TYPE</th><th>REGION_POPULATION_RELATIVE</th><th>DAYS_BIRTH</th><th>DAYS_EMPLOYED</th><th>DAYS_REGISTRATION</th><th>DAYS_ID_PUBLISH</th><th>OWN_CAR_AGE</th><th>FLAG_MOBIL</th><th>FLAG_EMP_PHONE</th><th>FLAG_WORK_PHONE</th><th>FLAG_CONT_MOBILE</th><th>FLAG_PHONE</th><th>FLAG_EMAIL</th><th>OCCUPATION_TYPE</th><th>CNT_FAM_MEMBERS</th><th>REGION_RATING_CLIENT</th><th>REGION_RATING_CLIENT_W_CITY</th><th>WEEKDAY_APPR_PROCESS_START</th><th>HOUR_APPR_PROCESS_START</th><th>REG_REGION_NOT_LIVE_REGION</th><th>REG_REGION_NOT_WORK_REGION</th><th>LIVE_REGION_NOT_WORK_REGION</th><th>REG_CITY_NOT_LIVE_CITY</th><th>REG_CITY_NOT_WORK_CITY</th><th>LIVE_CITY_NOT_WORK_CITY</th><th>ORGANIZATION_TYPE</th><th>EXT_SOURCE_1</th><th>EXT_SOURCE_2</th><th>EXT_SOURCE_3</th><th>APARTMENTS_AVG</th><th>BASEMENTAREA_AVG</th><th>YEARS_BEGINEXPLUATATION_AVG</th><th>YEARS_BUILD_AVG</th><th>COMMONAREA_AVG</th><th>ELEVATORS_AVG</th><th>ENTRANCES_AVG</th><th>FLOORSMAX_AVG</th><th>FLOORSMIN_AVG</th><th>LANDAREA_AVG</th><th>LIVINGAPARTMENTS_AVG</th><th>LIVINGAREA_AVG</th><th>NONLIVINGAPARTMENTS_AVG</th><th>NONLIVINGAREA_AVG</th><th>APARTMENTS_MODE</th><th>BASEMENTAREA_MODE</th><th>YEARS_BEGINEXPLUATATION_MODE</th><th>YEARS_BUILD_MODE</th><th>COMMONAREA_MODE</th><th>ELEVATORS_MODE</th><th>ENTRANCES_MODE</th><th>FLOORSMAX_MODE</th><th>FLOORSMIN_MODE</th><th>LANDAREA_MODE</th><th>LIVINGAPARTMENTS_MODE</th><th>LIVINGAREA_MODE</th><th>NONLIVINGAPARTMENTS_MODE</th><th>NONLIVINGAREA_MODE</th><th>APARTMENTS_MEDI</th><th>BASEMENTAREA_MEDI</th><th>YEARS_BEGINEXPLUATATION_MEDI</th><th>YEARS_BUILD_MEDI</th><th>COMMONAREA_MEDI</th><th>ELEVATORS_MEDI</th><th>ENTRANCES_MEDI</th><th>FLOORSMAX_MEDI</th><th>FLOORSMIN_MEDI</th><th>LANDAREA_MEDI</th><th>LIVINGAPARTMENTS_MEDI</th><th>LIVINGAREA_MEDI</th><th>NONLIVINGAPARTMENTS_MEDI</th><th>NONLIVINGAREA_MEDI</th><th>FONDKAPREMONT_MODE</th><th>HOUSETYPE_MODE</th><th>TOTALAREA_MODE</th><th>WALLSMATERIAL_MODE</th><th>EMERGENCYSTATE_MODE</th><th>OBS_30_CNT_SOCIAL_CIRCLE</th><th>DEF_30_CNT_SOCIAL_CIRCLE</th><th>OBS_60_CNT_SOCIAL_CIRCLE</th><th>DEF_60_CNT_SOCIAL_CIRCLE</th><th>DAYS_LAST_PHONE_CHANGE</th><th>FLAG_DOCUMENT_2</th><th>FLAG_DOCUMENT_3</th><th>FLAG_DOCUMENT_4</th><th>FLAG_DOCUMENT_5</th><th>FLAG_DOCUMENT_6</th><th>FLAG_DOCUMENT_7</th><th>FLAG_DOCUMENT_8</th><th>FLAG_DOCUMENT_9</th><th>FLAG_DOCUMENT_10</th><th>FLAG_DOCUMENT_11</th><th>FLAG_DOCUMENT_12</th><th>FLAG_DOCUMENT_13</th><th>FLAG_DOCUMENT_14</th><th>FLAG_DOCUMENT_15</th><th>FLAG_DOCUMENT_16</th><th>FLAG_DOCUMENT_17</th><th>FLAG_DOCUMENT_18</th><th>FLAG_DOCUMENT_19</th><th>FLAG_DOCUMENT_20</th><th>FLAG_DOCUMENT_21</th><th>AMT_REQ_CREDIT_BUREAU_HOUR</th><th>AMT_REQ_CREDIT_BUREAU_DAY</th><th>AMT_REQ_CREDIT_BUREAU_WEEK</th><th>AMT_REQ_CREDIT_BUREAU_MON</th><th>AMT_REQ_CREDIT_BUREAU_QRT</th><th>AMT_REQ_CREDIT_BUREAU_YEAR</th></tr></thead><tbody><tr><td>100002</td><td>1</td><td>Cash loans</td><td>M</td><td>N</td><td>Y</td><td>0</td><td>202500.0</td><td>406597.5</td><td>24700.5</td><td>351000.0</td><td>Unaccompanied</td><td>Working</td><td>Secondary / secondary special</td><td>Single / not married</td><td>House / apartment</td><td>0.018801</td><td>-9461</td><td>-637</td><td>-3648.0</td><td>-2120</td><td>null</td><td>1</td><td>1</td><td>0</td><td>1</td><td>1</td><td>0</td><td>Laborers</td><td>1.0</td><td>2</td><td>2</td><td>WEDNESDAY</td><td>10</td><td>0</td><td>0</td><td>0</td><td>0</td><td>0</td><td>0</td><td>Business Entity Type 3</td><td>0.08303696739132256</td><td>0.2629485927471776</td><td>0.13937578009978951</td><td>0.0247</td><td>0.0369</td><td>0.9722</td><td>0.6192</td><td>0.0143</td><td>0.0</td><td>0.069</td><td>0.0833</td><td>0.125</td><td>0.0369</td><td>0.0202</td><td>0.019</td><td>0.0</td><td>0.0</td><td>0.0252</td><td>0.0383</td><td>0.9722</td><td>0.6341</td><td>0.0144</td><td>0.0</td><td>0.069</td><td>0.0833</td><td>0.125</td><td>0.0377</td><td>0.022</td><td>0.0198</td><td>0.0</td><td>0.0</td><td>0.025</td><td>0.0369</td><td>0.9722</td><td>0.6243</td><td>0.0144</td><td>0.0</td><td>0.069</td><td>0.0833</td><td>0.125</td><td>0.0375</td><td>0.0205</td><td>0.0193</td><td>0.0</td><td>0.0</td><td>reg oper account</td><td>block of flats</td><td>0.0149</td><td>Stone, brick</td><td>No</td><td>2.0</td><td>2.0</td><td>2.0</td><td>2.0</td><td>-1134.0</td><td>0</td><td>1</td><td>0</td><td>0</td><td>0</td><td>0</td><td>0</td><td>0</td><td>0</td><td>0</td><td>0</td><td>0</td><td>0</td><td>0</td><td>0</td><td>0</td><td>0</td><td>0</td><td>0</td><td>0</td><td>0.0</td><td>0.0</td><td>0.0</td><td>0.0</td><td>0.0</td><td>1.0</td></tr><tr><td>100003</td><td>0</td><td>Cash loans</td><td>F</td><td>N</td><td>N</td><td>0</td><td>270000.0</td><td>1293502.5</td><td>35698.5</td><td>1129500.0</td><td>Family</td><td>State servant</td><td>Higher education</td><td>Married</td><td>House / apartment</td><td>0.003540999999999999</td><td>-16765</td><td>-1188</td><td>-1186.0</td><td>-291</td><td>null</td><td>1</td><td>1</td><td>0</td><td>1</td><td>1</td><td>0</td><td>Core staff</td><td>2.0</td><td>1</td><td>1</td><td>MONDAY</td><td>11</td><td>0</td><td>0</td><td>0</td><td>0</td><td>0</td><td>0</td><td>School</td><td>0.3112673113812225</td><td>0.6222457752555098</td><td>null</td><td>0.0959</td><td>0.0529</td><td>0.9851</td><td>0.7959999999999999</td><td>0.0605</td><td>0.08</td><td>0.0345</td><td>0.2917</td><td>0.3333</td><td>0.013</td><td>0.0773</td><td>0.0549</td><td>0.0039</td><td>0.0098</td><td>0.0924</td><td>0.0538</td><td>0.9851</td><td>0.804</td><td>0.0497</td><td>0.0806</td><td>0.0345</td><td>0.2917</td><td>0.3333</td><td>0.0128</td><td>0.079</td><td>0.0554</td><td>0.0</td><td>0.0</td><td>0.0968</td><td>0.0529</td><td>0.9851</td><td>0.7987</td><td>0.0608</td><td>0.08</td><td>0.0345</td><td>0.2917</td><td>0.3333</td><td>0.0132</td><td>0.0787</td><td>0.0558</td><td>0.0039</td><td>0.01</td><td>reg oper account</td><td>block of flats</td><td>0.0714</td><td>Block</td><td>No</td><td>1.0</td><td>0.0</td><td>1.0</td><td>0.0</td><td>-828.0</td><td>0</td><td>1</td><td>0</td><td>0</td><td>0</td><td>0</td><td>0</td><td>0</td><td>0</td><td>0</td><td>0</td><td>0</td><td>0</td><td>0</td><td>0</td><td>0</td><td>0</td><td>0</td><td>0</td><td>0</td><td>0.0</td><td>0.0</td><td>0.0</td><td>0.0</td><td>0.0</td><td>0.0</td></tr><tr><td>100004</td><td>0</td><td>Revolving loans</td><td>M</td><td>Y</td><td>Y</td><td>0</td><td>67500.0</td><td>135000.0</td><td>6750.0</td><td>135000.0</td><td>Unaccompanied</td><td>Working</td><td>Secondary / secondary special</td><td>Single / not married</td><td>House / apartment</td><td>0.010032</td><td>-19046</td><td>-225</td><td>-4260.0</td><td>-2531</td><td>26.0</td><td>1</td><td>1</td><td>1</td><td>1</td><td>1</td><td>0</td><td>Laborers</td><td>1.0</td><td>2</td><td>2</td><td>MONDAY</td><td>9</td><td>0</td><td>0</td><td>0</td><td>0</td><td>0</td><td>0</td><td>Government</td><td>null</td><td>0.5559120833904428</td><td>0.7295666907060153</td><td>null</td><td>null</td><td>null</td><td>null</td><td>null</td><td>null</td><td>null</td><td>null</td><td>null</td><td>null</td><td>null</td><td>null</td><td>null</td><td>null</td><td>null</td><td>null</td><td>null</td><td>null</td><td>null</td><td>null</td><td>null</td><td>null</td><td>null</td><td>null</td><td>null</td><td>null</td><td>null</td><td>null</td><td>null</td><td>null</td><td>null</td><td>null</td><td>null</td><td>null</td><td>null</td><td>null</td><td>null</td><td>null</td><td>null</td><td>null</td><td>null</td><td>null</td><td>null</td><td>null</td><td>null</td><td>null</td><td>null</td><td>0.0</td><td>0.0</td><td>0.0</td><td>0.0</td><td>-815.0</td><td>0</td><td>0</td><td>0</td><td>0</td><td>0</td><td>0</td><td>0</td><td>0</td><td>0</td><td>0</td><td>0</td><td>0</td><td>0</td><td>0</td><td>0</td><td>0</td><td>0</td><td>0</td><td>0</td><td>0</td><td>0.0</td><td>0.0</td><td>0.0</td><td>0.0</td><td>0.0</td><td>0.0</td></tr><tr><td>100006</td><td>0</td><td>Cash loans</td><td>F</td><td>N</td><td>Y</td><td>0</td><td>135000.0</td><td>312682.5</td><td>29686.5</td><td>297000.0</td><td>Unaccompanied</td><td>Working</td><td>Secondary / secondary special</td><td>Civil marriage</td><td>House / apartment</td><td>0.008019</td><td>-19005</td><td>-3039</td><td>-9833.0</td><td>-2437</td><td>null</td><td>1</td><td>1</td><td>0</td><td>1</td><td>0</td><td>0</td><td>Laborers</td><td>2.0</td><td>2</td><td>2</td><td>WEDNESDAY</td><td>17</td><td>0</td><td>0</td><td>0</td><td>0</td><td>0</td><td>0</td><td>Business Entity Type 3</td><td>null</td><td>0.6504416904014653</td><td>null</td><td>null</td><td>null</td><td>null</td><td>null</td><td>null</td><td>null</td><td>null</td><td>null</td><td>null</td><td>null</td><td>null</td><td>null</td><td>null</td><td>null</td><td>null</td><td>null</td><td>null</td><td>null</td><td>null</td><td>null</td><td>null</td><td>null</td><td>null</td><td>null</td><td>null</td><td>null</td><td>null</td><td>null</td><td>null</td><td>null</td><td>null</td><td>null</td><td>null</td><td>null</td><td>null</td><td>null</td><td>null</td><td>null</td><td>null</td><td>null</td><td>null</td><td>null</td><td>null</td><td>null</td><td>null</td><td>null</td><td>null</td><td>2.0</td><td>0.0</td><td>2.0</td><td>0.0</td><td>-617.0</td><td>0</td><td>1</td><td>0</td><td>0</td><td>0</td><td>0</td><td>0</td><td>0</td><td>0</td><td>0</td><td>0</td><td>0</td><td>0</td><td>0</td><td>0</td><td>0</td><td>0</td><td>0</td><td>0</td><td>0</td><td>null</td><td>null</td><td>null</td><td>null</td><td>null</td><td>null</td></tr><tr><td>100007</td><td>0</td><td>Cash loans</td><td>M</td><td>N</td><td>Y</td><td>0</td><td>121500.0</td><td>513000.0</td><td>21865.5</td><td>513000.0</td><td>Unaccompanied</td><td>Working</td><td>Secondary / secondary special</td><td>Single / not married</td><td>House / apartment</td><td>0.028663</td><td>-19932</td><td>-3038</td><td>-4311.0</td><td>-3458</td><td>null</td><td>1</td><td>1</td><td>0</td><td>1</td><td>0</td><td>0</td><td>Core staff</td><td>1.0</td><td>2</td><td>2</td><td>THURSDAY</td><td>11</td><td>0</td><td>0</td><td>0</td><td>0</td><td>1</td><td>1</td><td>Religion</td><td>null</td><td>0.3227382869704046</td><td>null</td><td>null</td><td>null</td><td>null</td><td>null</td><td>null</td><td>null</td><td>null</td><td>null</td><td>null</td><td>null</td><td>null</td><td>null</td><td>null</td><td>null</td><td>null</td><td>null</td><td>null</td><td>null</td><td>null</td><td>null</td><td>null</td><td>null</td><td>null</td><td>null</td><td>null</td><td>null</td><td>null</td><td>null</td><td>null</td><td>null</td><td>null</td><td>null</td><td>null</td><td>null</td><td>null</td><td>null</td><td>null</td><td>null</td><td>null</td><td>null</td><td>null</td><td>null</td><td>null</td><td>null</td><td>null</td><td>null</td><td>null</td><td>0.0</td><td>0.0</td><td>0.0</td><td>0.0</td><td>-1106.0</td><td>0</td><td>0</td><td>0</td><td>0</td><td>0</td><td>0</td><td>1</td><td>0</td><td>0</td><td>0</td><td>0</td><td>0</td><td>0</td><td>0</td><td>0</td><td>0</td><td>0</td><td>0</td><td>0</td><td>0</td><td>0.0</td><td>0.0</td><td>0.0</td><td>0.0</td><td>0.0</td><td>0.0</td></tr><tr><td>100008</td><td>0</td><td>Cash loans</td><td>M</td><td>N</td><td>Y</td><td>0</td><td>99000.0</td><td>490495.5</td><td>27517.5</td><td>454500.0</td><td>Spouse, partner</td><td>State servant</td><td>Secondary / secondary special</td><td>Married</td><td>House / apartment</td><td>0.035792000000000004</td><td>-16941</td><td>-1588</td><td>-4970.0</td><td>-477</td><td>null</td><td>1</td><td>1</td><td>1</td><td>1</td><td>1</td><td>0</td><td>Laborers</td><td>2.0</td><td>2</td><td>2</td><td>WEDNESDAY</td><td>16</td><td>0</td><td>0</td><td>0</td><td>0</td><td>0</td><td>0</td><td>Other</td><td>null</td><td>0.3542247319929012</td><td>0.6212263380626669</td><td>null</td><td>null</td><td>null</td><td>null</td><td>null</td><td>null</td><td>null</td><td>null</td><td>null</td><td>null</td><td>null</td><td>null</td><td>null</td><td>null</td><td>null</td><td>null</td><td>null</td><td>null</td><td>null</td><td>null</td><td>null</td><td>null</td><td>null</td><td>null</td><td>null</td><td>null</td><td>null</td><td>null</td><td>null</td><td>null</td><td>null</td><td>null</td><td>null</td><td>null</td><td>null</td><td>null</td><td>null</td><td>null</td><td>null</td><td>null</td><td>null</td><td>null</td><td>null</td><td>null</td><td>null</td><td>null</td><td>null</td><td>0.0</td><td>0.0</td><td>0.0</td><td>0.0</td><td>-2536.0</td><td>0</td><td>1</td><td>0</td><td>0</td><td>0</td><td>0</td><td>0</td><td>0</td><td>0</td><td>0</td><td>0</td><td>0</td><td>0</td><td>0</td><td>0</td><td>0</td><td>0</td><td>0</td><td>0</td><td>0</td><td>0.0</td><td>0.0</td><td>0.0</td><td>0.0</td><td>1.0</td><td>1.0</td></tr><tr><td>100009</td><td>0</td><td>Cash loans</td><td>F</td><td>Y</td><td>Y</td><td>1</td><td>171000.0</td><td>1560726.0</td><td>41301.0</td><td>1395000.0</td><td>Unaccompanied</td><td>Commercial associate</td><td>Higher education</td><td>Married</td><td>House / apartment</td><td>0.035792000000000004</td><td>-13778</td><td>-3130</td><td>-1213.0</td><td>-619</td><td>17.0</td><td>1</td><td>1</td><td>0</td><td>1</td><td>1</td><td>0</td><td>Accountants</td><td>3.0</td><td>2</td><td>2</td><td>SUNDAY</td><td>16</td><td>0</td><td>0</td><td>0</td><td>0</td><td>0</td><td>0</td><td>Business Entity Type 3</td><td>0.7747614130547695</td><td>0.7239998516953141</td><td>0.4920600938649263</td><td>null</td><td>null</td><td>null</td><td>null</td><td>null</td><td>null</td><td>null</td><td>null</td><td>null</td><td>null</td><td>null</td><td>null</td><td>null</td><td>null</td><td>null</td><td>null</td><td>null</td><td>null</td><td>null</td><td>null</td><td>null</td><td>null</td><td>null</td><td>null</td><td>null</td><td>null</td><td>null</td><td>null</td><td>null</td><td>null</td><td>null</td><td>null</td><td>null</td><td>null</td><td>null</td><td>null</td><td>null</td><td>null</td><td>null</td><td>null</td><td>null</td><td>null</td><td>null</td><td>null</td><td>null</td><td>null</td><td>null</td><td>1.0</td><td>0.0</td><td>1.0</td><td>0.0</td><td>-1562.0</td><td>0</td><td>0</td><td>0</td><td>0</td><td>0</td><td>0</td><td>1</td><td>0</td><td>0</td><td>0</td><td>0</td><td>0</td><td>1</td><td>0</td><td>0</td><td>0</td><td>0</td><td>0</td><td>0</td><td>0</td><td>0.0</td><td>0.0</td><td>0.0</td><td>1.0</td><td>1.0</td><td>2.0</td></tr><tr><td>100010</td><td>0</td><td>Cash loans</td><td>M</td><td>Y</td><td>Y</td><td>0</td><td>360000.0</td><td>1530000.0</td><td>42075.0</td><td>1530000.0</td><td>Unaccompanied</td><td>State servant</td><td>Higher education</td><td>Married</td><td>House / apartment</td><td>0.0031219999999999998</td><td>-18850</td><td>-449</td><td>-4597.0</td><td>-2379</td><td>8.0</td><td>1</td><td>1</td><td>1</td><td>1</td><td>0</td><td>0</td><td>Managers</td><td>2.0</td><td>3</td><td>3</td><td>MONDAY</td><td>16</td><td>0</td><td>0</td><td>0</td><td>0</td><td>1</td><td>1</td><td>Other</td><td>null</td><td>0.7142792864482229</td><td>0.5406544504453575</td><td>null</td><td>null</td><td>null</td><td>null</td><td>null</td><td>null</td><td>null</td><td>null</td><td>null</td><td>null</td><td>null</td><td>null</td><td>null</td><td>null</td><td>null</td><td>null</td><td>null</td><td>null</td><td>null</td><td>null</td><td>null</td><td>null</td><td>null</td><td>null</td><td>null</td><td>null</td><td>null</td><td>null</td><td>null</td><td>null</td><td>null</td><td>null</td><td>null</td><td>null</td><td>null</td><td>null</td><td>null</td><td>null</td><td>null</td><td>null</td><td>null</td><td>null</td><td>null</td><td>null</td><td>null</td><td>null</td><td>null</td><td>2.0</td><td>0.0</td><td>2.0</td><td>0.0</td><td>-1070.0</td><td>0</td><td>1</td><td>0</td><td>0</td><td>0</td><td>0</td><td>0</td><td>0</td><td>0</td><td>0</td><td>0</td><td>0</td><td>0</td><td>0</td><td>0</td><td>0</td><td>0</td><td>0</td><td>0</td><td>0</td><td>0.0</td><td>0.0</td><td>0.0</td><td>0.0</td><td>0.0</td><td>0.0</td></tr><tr><td>100011</td><td>0</td><td>Cash loans</td><td>F</td><td>N</td><td>Y</td><td>0</td><td>112500.0</td><td>1019610.0</td><td>33826.5</td><td>913500.0</td><td>Children</td><td>Pensioner</td><td>Secondary / secondary special</td><td>Married</td><td>House / apartment</td><td>0.018634</td><td>-20099</td><td>365243</td><td>-7427.0</td><td>-3514</td><td>null</td><td>1</td><td>0</td><td>0</td><td>1</td><td>0</td><td>0</td><td>null</td><td>2.0</td><td>2</td><td>2</td><td>WEDNESDAY</td><td>14</td><td>0</td><td>0</td><td>0</td><td>0</td><td>0</td><td>0</td><td>XNA</td><td>0.5873340468730377</td><td>0.20574728800732814</td><td>0.7517237147741489</td><td>null</td><td>null</td><td>null</td><td>null</td><td>null</td><td>null</td><td>null</td><td>null</td><td>null</td><td>null</td><td>null</td><td>null</td><td>null</td><td>null</td><td>null</td><td>null</td><td>null</td><td>null</td><td>null</td><td>null</td><td>null</td><td>null</td><td>null</td><td>null</td><td>null</td><td>null</td><td>null</td><td>null</td><td>null</td><td>null</td><td>null</td><td>null</td><td>null</td><td>null</td><td>null</td><td>null</td><td>null</td><td>null</td><td>null</td><td>null</td><td>null</td><td>null</td><td>null</td><td>null</td><td>null</td><td>null</td><td>null</td><td>1.0</td><td>0.0</td><td>1.0</td><td>0.0</td><td>0.0</td><td>0</td><td>1</td><td>0</td><td>0</td><td>0</td><td>0</td><td>0</td><td>0</td><td>0</td><td>0</td><td>0</td><td>0</td><td>0</td><td>0</td><td>0</td><td>0</td><td>0</td><td>0</td><td>0</td><td>0</td><td>0.0</td><td>0.0</td><td>0.0</td><td>0.0</td><td>0.0</td><td>1.0</td></tr><tr><td>100012</td><td>0</td><td>Revolving loans</td><td>M</td><td>N</td><td>Y</td><td>0</td><td>135000.0</td><td>405000.0</td><td>20250.0</td><td>405000.0</td><td>Unaccompanied</td><td>Working</td><td>Secondary / secondary special</td><td>Single / not married</td><td>House / apartment</td><td>0.019688999999999998</td><td>-14469</td><td>-2019</td><td>-14437.0</td><td>-3992</td><td>null</td><td>1</td><td>1</td><td>0</td><td>1</td><td>0</td><td>0</td><td>Laborers</td><td>1.0</td><td>2</td><td>2</td><td>THURSDAY</td><td>8</td><td>0</td><td>0</td><td>0</td><td>0</td><td>0</td><td>0</td><td>Electricity</td><td>null</td><td>0.7466436294590924</td><td>null</td><td>null</td><td>null</td><td>null</td><td>null</td><td>null</td><td>null</td><td>null</td><td>null</td><td>null</td><td>null</td><td>null</td><td>null</td><td>null</td><td>null</td><td>null</td><td>null</td><td>null</td><td>null</td><td>null</td><td>null</td><td>null</td><td>null</td><td>null</td><td>null</td><td>null</td><td>null</td><td>null</td><td>null</td><td>null</td><td>null</td><td>null</td><td>null</td><td>null</td><td>null</td><td>null</td><td>null</td><td>null</td><td>null</td><td>null</td><td>null</td><td>null</td><td>null</td><td>null</td><td>null</td><td>null</td><td>null</td><td>null</td><td>2.0</td><td>0.0</td><td>2.0</td><td>0.0</td><td>-1673.0</td><td>0</td><td>0</td><td>0</td><td>0</td><td>0</td><td>0</td><td>0</td><td>0</td><td>0</td><td>0</td><td>0</td><td>0</td><td>0</td><td>0</td><td>0</td><td>0</td><td>0</td><td>0</td><td>0</td><td>0</td><td>null</td><td>null</td><td>null</td><td>null</td><td>null</td><td>null</td></tr></tbody></table></div>"
      ]
     },
     "metadata": {
      "application/vnd.databricks.v1+output": {
       "addedWidgets": {},
       "aggData": [],
       "aggError": "",
       "aggOverflow": false,
       "aggSchema": [],
       "aggSeriesLimitReached": false,
       "aggType": "",
       "arguments": {},
       "columnCustomDisplayInfos": {},
       "data": [
        [
         100002,
         1,
         "Cash loans",
         "M",
         "N",
         "Y",
         0,
         202500.0,
         406597.5,
         24700.5,
         351000.0,
         "Unaccompanied",
         "Working",
         "Secondary / secondary special",
         "Single / not married",
         "House / apartment",
         0.018801,
         -9461,
         -637,
         -3648.0,
         -2120,
         null,
         1,
         1,
         0,
         1,
         1,
         0,
         "Laborers",
         1.0,
         2,
         2,
         "WEDNESDAY",
         10,
         0,
         0,
         0,
         0,
         0,
         0,
         "Business Entity Type 3",
         0.08303696739132256,
         0.2629485927471776,
         0.13937578009978951,
         0.0247,
         0.0369,
         0.9722,
         0.6192,
         0.0143,
         0.0,
         0.069,
         0.0833,
         0.125,
         0.0369,
         0.0202,
         0.019,
         0.0,
         0.0,
         0.0252,
         0.0383,
         0.9722,
         0.6341,
         0.0144,
         0.0,
         0.069,
         0.0833,
         0.125,
         0.0377,
         0.022,
         0.0198,
         0.0,
         0.0,
         0.025,
         0.0369,
         0.9722,
         0.6243,
         0.0144,
         0.0,
         0.069,
         0.0833,
         0.125,
         0.0375,
         0.0205,
         0.0193,
         0.0,
         0.0,
         "reg oper account",
         "block of flats",
         0.0149,
         "Stone, brick",
         "No",
         2.0,
         2.0,
         2.0,
         2.0,
         -1134.0,
         0,
         1,
         0,
         0,
         0,
         0,
         0,
         0,
         0,
         0,
         0,
         0,
         0,
         0,
         0,
         0,
         0,
         0,
         0,
         0,
         0.0,
         0.0,
         0.0,
         0.0,
         0.0,
         1.0
        ],
        [
         100003,
         0,
         "Cash loans",
         "F",
         "N",
         "N",
         0,
         270000.0,
         1293502.5,
         35698.5,
         1129500.0,
         "Family",
         "State servant",
         "Higher education",
         "Married",
         "House / apartment",
         0.003540999999999999,
         -16765,
         -1188,
         -1186.0,
         -291,
         null,
         1,
         1,
         0,
         1,
         1,
         0,
         "Core staff",
         2.0,
         1,
         1,
         "MONDAY",
         11,
         0,
         0,
         0,
         0,
         0,
         0,
         "School",
         0.3112673113812225,
         0.6222457752555098,
         null,
         0.0959,
         0.0529,
         0.9851,
         0.7959999999999999,
         0.0605,
         0.08,
         0.0345,
         0.2917,
         0.3333,
         0.013,
         0.0773,
         0.0549,
         0.0039,
         0.0098,
         0.0924,
         0.0538,
         0.9851,
         0.804,
         0.0497,
         0.0806,
         0.0345,
         0.2917,
         0.3333,
         0.0128,
         0.079,
         0.0554,
         0.0,
         0.0,
         0.0968,
         0.0529,
         0.9851,
         0.7987,
         0.0608,
         0.08,
         0.0345,
         0.2917,
         0.3333,
         0.0132,
         0.0787,
         0.0558,
         0.0039,
         0.01,
         "reg oper account",
         "block of flats",
         0.0714,
         "Block",
         "No",
         1.0,
         0.0,
         1.0,
         0.0,
         -828.0,
         0,
         1,
         0,
         0,
         0,
         0,
         0,
         0,
         0,
         0,
         0,
         0,
         0,
         0,
         0,
         0,
         0,
         0,
         0,
         0,
         0.0,
         0.0,
         0.0,
         0.0,
         0.0,
         0.0
        ],
        [
         100004,
         0,
         "Revolving loans",
         "M",
         "Y",
         "Y",
         0,
         67500.0,
         135000.0,
         6750.0,
         135000.0,
         "Unaccompanied",
         "Working",
         "Secondary / secondary special",
         "Single / not married",
         "House / apartment",
         0.010032,
         -19046,
         -225,
         -4260.0,
         -2531,
         26.0,
         1,
         1,
         1,
         1,
         1,
         0,
         "Laborers",
         1.0,
         2,
         2,
         "MONDAY",
         9,
         0,
         0,
         0,
         0,
         0,
         0,
         "Government",
         null,
         0.5559120833904428,
         0.7295666907060153,
         null,
         null,
         null,
         null,
         null,
         null,
         null,
         null,
         null,
         null,
         null,
         null,
         null,
         null,
         null,
         null,
         null,
         null,
         null,
         null,
         null,
         null,
         null,
         null,
         null,
         null,
         null,
         null,
         null,
         null,
         null,
         null,
         null,
         null,
         null,
         null,
         null,
         null,
         null,
         null,
         null,
         null,
         null,
         null,
         null,
         null,
         null,
         0.0,
         0.0,
         0.0,
         0.0,
         -815.0,
         0,
         0,
         0,
         0,
         0,
         0,
         0,
         0,
         0,
         0,
         0,
         0,
         0,
         0,
         0,
         0,
         0,
         0,
         0,
         0,
         0.0,
         0.0,
         0.0,
         0.0,
         0.0,
         0.0
        ],
        [
         100006,
         0,
         "Cash loans",
         "F",
         "N",
         "Y",
         0,
         135000.0,
         312682.5,
         29686.5,
         297000.0,
         "Unaccompanied",
         "Working",
         "Secondary / secondary special",
         "Civil marriage",
         "House / apartment",
         0.008019,
         -19005,
         -3039,
         -9833.0,
         -2437,
         null,
         1,
         1,
         0,
         1,
         0,
         0,
         "Laborers",
         2.0,
         2,
         2,
         "WEDNESDAY",
         17,
         0,
         0,
         0,
         0,
         0,
         0,
         "Business Entity Type 3",
         null,
         0.6504416904014653,
         null,
         null,
         null,
         null,
         null,
         null,
         null,
         null,
         null,
         null,
         null,
         null,
         null,
         null,
         null,
         null,
         null,
         null,
         null,
         null,
         null,
         null,
         null,
         null,
         null,
         null,
         null,
         null,
         null,
         null,
         null,
         null,
         null,
         null,
         null,
         null,
         null,
         null,
         null,
         null,
         null,
         null,
         null,
         null,
         null,
         null,
         null,
         null,
         2.0,
         0.0,
         2.0,
         0.0,
         -617.0,
         0,
         1,
         0,
         0,
         0,
         0,
         0,
         0,
         0,
         0,
         0,
         0,
         0,
         0,
         0,
         0,
         0,
         0,
         0,
         0,
         null,
         null,
         null,
         null,
         null,
         null
        ],
        [
         100007,
         0,
         "Cash loans",
         "M",
         "N",
         "Y",
         0,
         121500.0,
         513000.0,
         21865.5,
         513000.0,
         "Unaccompanied",
         "Working",
         "Secondary / secondary special",
         "Single / not married",
         "House / apartment",
         0.028663,
         -19932,
         -3038,
         -4311.0,
         -3458,
         null,
         1,
         1,
         0,
         1,
         0,
         0,
         "Core staff",
         1.0,
         2,
         2,
         "THURSDAY",
         11,
         0,
         0,
         0,
         0,
         1,
         1,
         "Religion",
         null,
         0.3227382869704046,
         null,
         null,
         null,
         null,
         null,
         null,
         null,
         null,
         null,
         null,
         null,
         null,
         null,
         null,
         null,
         null,
         null,
         null,
         null,
         null,
         null,
         null,
         null,
         null,
         null,
         null,
         null,
         null,
         null,
         null,
         null,
         null,
         null,
         null,
         null,
         null,
         null,
         null,
         null,
         null,
         null,
         null,
         null,
         null,
         null,
         null,
         null,
         null,
         0.0,
         0.0,
         0.0,
         0.0,
         -1106.0,
         0,
         0,
         0,
         0,
         0,
         0,
         1,
         0,
         0,
         0,
         0,
         0,
         0,
         0,
         0,
         0,
         0,
         0,
         0,
         0,
         0.0,
         0.0,
         0.0,
         0.0,
         0.0,
         0.0
        ],
        [
         100008,
         0,
         "Cash loans",
         "M",
         "N",
         "Y",
         0,
         99000.0,
         490495.5,
         27517.5,
         454500.0,
         "Spouse, partner",
         "State servant",
         "Secondary / secondary special",
         "Married",
         "House / apartment",
         0.035792000000000004,
         -16941,
         -1588,
         -4970.0,
         -477,
         null,
         1,
         1,
         1,
         1,
         1,
         0,
         "Laborers",
         2.0,
         2,
         2,
         "WEDNESDAY",
         16,
         0,
         0,
         0,
         0,
         0,
         0,
         "Other",
         null,
         0.3542247319929012,
         0.6212263380626669,
         null,
         null,
         null,
         null,
         null,
         null,
         null,
         null,
         null,
         null,
         null,
         null,
         null,
         null,
         null,
         null,
         null,
         null,
         null,
         null,
         null,
         null,
         null,
         null,
         null,
         null,
         null,
         null,
         null,
         null,
         null,
         null,
         null,
         null,
         null,
         null,
         null,
         null,
         null,
         null,
         null,
         null,
         null,
         null,
         null,
         null,
         null,
         0.0,
         0.0,
         0.0,
         0.0,
         -2536.0,
         0,
         1,
         0,
         0,
         0,
         0,
         0,
         0,
         0,
         0,
         0,
         0,
         0,
         0,
         0,
         0,
         0,
         0,
         0,
         0,
         0.0,
         0.0,
         0.0,
         0.0,
         1.0,
         1.0
        ],
        [
         100009,
         0,
         "Cash loans",
         "F",
         "Y",
         "Y",
         1,
         171000.0,
         1560726.0,
         41301.0,
         1395000.0,
         "Unaccompanied",
         "Commercial associate",
         "Higher education",
         "Married",
         "House / apartment",
         0.035792000000000004,
         -13778,
         -3130,
         -1213.0,
         -619,
         17.0,
         1,
         1,
         0,
         1,
         1,
         0,
         "Accountants",
         3.0,
         2,
         2,
         "SUNDAY",
         16,
         0,
         0,
         0,
         0,
         0,
         0,
         "Business Entity Type 3",
         0.7747614130547695,
         0.7239998516953141,
         0.4920600938649263,
         null,
         null,
         null,
         null,
         null,
         null,
         null,
         null,
         null,
         null,
         null,
         null,
         null,
         null,
         null,
         null,
         null,
         null,
         null,
         null,
         null,
         null,
         null,
         null,
         null,
         null,
         null,
         null,
         null,
         null,
         null,
         null,
         null,
         null,
         null,
         null,
         null,
         null,
         null,
         null,
         null,
         null,
         null,
         null,
         null,
         null,
         null,
         1.0,
         0.0,
         1.0,
         0.0,
         -1562.0,
         0,
         0,
         0,
         0,
         0,
         0,
         1,
         0,
         0,
         0,
         0,
         0,
         1,
         0,
         0,
         0,
         0,
         0,
         0,
         0,
         0.0,
         0.0,
         0.0,
         1.0,
         1.0,
         2.0
        ],
        [
         100010,
         0,
         "Cash loans",
         "M",
         "Y",
         "Y",
         0,
         360000.0,
         1530000.0,
         42075.0,
         1530000.0,
         "Unaccompanied",
         "State servant",
         "Higher education",
         "Married",
         "House / apartment",
         0.0031219999999999998,
         -18850,
         -449,
         -4597.0,
         -2379,
         8.0,
         1,
         1,
         1,
         1,
         0,
         0,
         "Managers",
         2.0,
         3,
         3,
         "MONDAY",
         16,
         0,
         0,
         0,
         0,
         1,
         1,
         "Other",
         null,
         0.7142792864482229,
         0.5406544504453575,
         null,
         null,
         null,
         null,
         null,
         null,
         null,
         null,
         null,
         null,
         null,
         null,
         null,
         null,
         null,
         null,
         null,
         null,
         null,
         null,
         null,
         null,
         null,
         null,
         null,
         null,
         null,
         null,
         null,
         null,
         null,
         null,
         null,
         null,
         null,
         null,
         null,
         null,
         null,
         null,
         null,
         null,
         null,
         null,
         null,
         null,
         null,
         2.0,
         0.0,
         2.0,
         0.0,
         -1070.0,
         0,
         1,
         0,
         0,
         0,
         0,
         0,
         0,
         0,
         0,
         0,
         0,
         0,
         0,
         0,
         0,
         0,
         0,
         0,
         0,
         0.0,
         0.0,
         0.0,
         0.0,
         0.0,
         0.0
        ],
        [
         100011,
         0,
         "Cash loans",
         "F",
         "N",
         "Y",
         0,
         112500.0,
         1019610.0,
         33826.5,
         913500.0,
         "Children",
         "Pensioner",
         "Secondary / secondary special",
         "Married",
         "House / apartment",
         0.018634,
         -20099,
         365243,
         -7427.0,
         -3514,
         null,
         1,
         0,
         0,
         1,
         0,
         0,
         null,
         2.0,
         2,
         2,
         "WEDNESDAY",
         14,
         0,
         0,
         0,
         0,
         0,
         0,
         "XNA",
         0.5873340468730377,
         0.20574728800732814,
         0.7517237147741489,
         null,
         null,
         null,
         null,
         null,
         null,
         null,
         null,
         null,
         null,
         null,
         null,
         null,
         null,
         null,
         null,
         null,
         null,
         null,
         null,
         null,
         null,
         null,
         null,
         null,
         null,
         null,
         null,
         null,
         null,
         null,
         null,
         null,
         null,
         null,
         null,
         null,
         null,
         null,
         null,
         null,
         null,
         null,
         null,
         null,
         null,
         null,
         1.0,
         0.0,
         1.0,
         0.0,
         0.0,
         0,
         1,
         0,
         0,
         0,
         0,
         0,
         0,
         0,
         0,
         0,
         0,
         0,
         0,
         0,
         0,
         0,
         0,
         0,
         0,
         0.0,
         0.0,
         0.0,
         0.0,
         0.0,
         1.0
        ],
        [
         100012,
         0,
         "Revolving loans",
         "M",
         "N",
         "Y",
         0,
         135000.0,
         405000.0,
         20250.0,
         405000.0,
         "Unaccompanied",
         "Working",
         "Secondary / secondary special",
         "Single / not married",
         "House / apartment",
         0.019688999999999998,
         -14469,
         -2019,
         -14437.0,
         -3992,
         null,
         1,
         1,
         0,
         1,
         0,
         0,
         "Laborers",
         1.0,
         2,
         2,
         "THURSDAY",
         8,
         0,
         0,
         0,
         0,
         0,
         0,
         "Electricity",
         null,
         0.7466436294590924,
         null,
         null,
         null,
         null,
         null,
         null,
         null,
         null,
         null,
         null,
         null,
         null,
         null,
         null,
         null,
         null,
         null,
         null,
         null,
         null,
         null,
         null,
         null,
         null,
         null,
         null,
         null,
         null,
         null,
         null,
         null,
         null,
         null,
         null,
         null,
         null,
         null,
         null,
         null,
         null,
         null,
         null,
         null,
         null,
         null,
         null,
         null,
         null,
         2.0,
         0.0,
         2.0,
         0.0,
         -1673.0,
         0,
         0,
         0,
         0,
         0,
         0,
         0,
         0,
         0,
         0,
         0,
         0,
         0,
         0,
         0,
         0,
         0,
         0,
         0,
         0,
         null,
         null,
         null,
         null,
         null,
         null
        ]
       ],
       "datasetInfos": [],
       "dbfsResultPath": null,
       "isJsonSchema": true,
       "metadata": {},
       "overflow": false,
       "plotOptions": {
        "customPlotOptions": {},
        "displayType": "table",
        "pivotAggregation": null,
        "pivotColumns": null,
        "xColumns": null,
        "yColumns": null
       },
       "removedWidgets": [],
       "schema": [
        {
         "metadata": "{}",
         "name": "SK_ID_CURR",
         "type": "\"integer\""
        },
        {
         "metadata": "{}",
         "name": "TARGET",
         "type": "\"integer\""
        },
        {
         "metadata": "{}",
         "name": "NAME_CONTRACT_TYPE",
         "type": "\"string\""
        },
        {
         "metadata": "{}",
         "name": "CODE_GENDER",
         "type": "\"string\""
        },
        {
         "metadata": "{}",
         "name": "FLAG_OWN_CAR",
         "type": "\"string\""
        },
        {
         "metadata": "{}",
         "name": "FLAG_OWN_REALTY",
         "type": "\"string\""
        },
        {
         "metadata": "{}",
         "name": "CNT_CHILDREN",
         "type": "\"integer\""
        },
        {
         "metadata": "{}",
         "name": "AMT_INCOME_TOTAL",
         "type": "\"double\""
        },
        {
         "metadata": "{}",
         "name": "AMT_CREDIT",
         "type": "\"double\""
        },
        {
         "metadata": "{}",
         "name": "AMT_ANNUITY",
         "type": "\"double\""
        },
        {
         "metadata": "{}",
         "name": "AMT_GOODS_PRICE",
         "type": "\"double\""
        },
        {
         "metadata": "{}",
         "name": "NAME_TYPE_SUITE",
         "type": "\"string\""
        },
        {
         "metadata": "{}",
         "name": "NAME_INCOME_TYPE",
         "type": "\"string\""
        },
        {
         "metadata": "{}",
         "name": "NAME_EDUCATION_TYPE",
         "type": "\"string\""
        },
        {
         "metadata": "{}",
         "name": "NAME_FAMILY_STATUS",
         "type": "\"string\""
        },
        {
         "metadata": "{}",
         "name": "NAME_HOUSING_TYPE",
         "type": "\"string\""
        },
        {
         "metadata": "{}",
         "name": "REGION_POPULATION_RELATIVE",
         "type": "\"double\""
        },
        {
         "metadata": "{}",
         "name": "DAYS_BIRTH",
         "type": "\"integer\""
        },
        {
         "metadata": "{}",
         "name": "DAYS_EMPLOYED",
         "type": "\"integer\""
        },
        {
         "metadata": "{}",
         "name": "DAYS_REGISTRATION",
         "type": "\"double\""
        },
        {
         "metadata": "{}",
         "name": "DAYS_ID_PUBLISH",
         "type": "\"integer\""
        },
        {
         "metadata": "{}",
         "name": "OWN_CAR_AGE",
         "type": "\"double\""
        },
        {
         "metadata": "{}",
         "name": "FLAG_MOBIL",
         "type": "\"integer\""
        },
        {
         "metadata": "{}",
         "name": "FLAG_EMP_PHONE",
         "type": "\"integer\""
        },
        {
         "metadata": "{}",
         "name": "FLAG_WORK_PHONE",
         "type": "\"integer\""
        },
        {
         "metadata": "{}",
         "name": "FLAG_CONT_MOBILE",
         "type": "\"integer\""
        },
        {
         "metadata": "{}",
         "name": "FLAG_PHONE",
         "type": "\"integer\""
        },
        {
         "metadata": "{}",
         "name": "FLAG_EMAIL",
         "type": "\"integer\""
        },
        {
         "metadata": "{}",
         "name": "OCCUPATION_TYPE",
         "type": "\"string\""
        },
        {
         "metadata": "{}",
         "name": "CNT_FAM_MEMBERS",
         "type": "\"double\""
        },
        {
         "metadata": "{}",
         "name": "REGION_RATING_CLIENT",
         "type": "\"integer\""
        },
        {
         "metadata": "{}",
         "name": "REGION_RATING_CLIENT_W_CITY",
         "type": "\"integer\""
        },
        {
         "metadata": "{}",
         "name": "WEEKDAY_APPR_PROCESS_START",
         "type": "\"string\""
        },
        {
         "metadata": "{}",
         "name": "HOUR_APPR_PROCESS_START",
         "type": "\"integer\""
        },
        {
         "metadata": "{}",
         "name": "REG_REGION_NOT_LIVE_REGION",
         "type": "\"integer\""
        },
        {
         "metadata": "{}",
         "name": "REG_REGION_NOT_WORK_REGION",
         "type": "\"integer\""
        },
        {
         "metadata": "{}",
         "name": "LIVE_REGION_NOT_WORK_REGION",
         "type": "\"integer\""
        },
        {
         "metadata": "{}",
         "name": "REG_CITY_NOT_LIVE_CITY",
         "type": "\"integer\""
        },
        {
         "metadata": "{}",
         "name": "REG_CITY_NOT_WORK_CITY",
         "type": "\"integer\""
        },
        {
         "metadata": "{}",
         "name": "LIVE_CITY_NOT_WORK_CITY",
         "type": "\"integer\""
        },
        {
         "metadata": "{}",
         "name": "ORGANIZATION_TYPE",
         "type": "\"string\""
        },
        {
         "metadata": "{}",
         "name": "EXT_SOURCE_1",
         "type": "\"double\""
        },
        {
         "metadata": "{}",
         "name": "EXT_SOURCE_2",
         "type": "\"double\""
        },
        {
         "metadata": "{}",
         "name": "EXT_SOURCE_3",
         "type": "\"double\""
        },
        {
         "metadata": "{}",
         "name": "APARTMENTS_AVG",
         "type": "\"double\""
        },
        {
         "metadata": "{}",
         "name": "BASEMENTAREA_AVG",
         "type": "\"double\""
        },
        {
         "metadata": "{}",
         "name": "YEARS_BEGINEXPLUATATION_AVG",
         "type": "\"double\""
        },
        {
         "metadata": "{}",
         "name": "YEARS_BUILD_AVG",
         "type": "\"double\""
        },
        {
         "metadata": "{}",
         "name": "COMMONAREA_AVG",
         "type": "\"double\""
        },
        {
         "metadata": "{}",
         "name": "ELEVATORS_AVG",
         "type": "\"double\""
        },
        {
         "metadata": "{}",
         "name": "ENTRANCES_AVG",
         "type": "\"double\""
        },
        {
         "metadata": "{}",
         "name": "FLOORSMAX_AVG",
         "type": "\"double\""
        },
        {
         "metadata": "{}",
         "name": "FLOORSMIN_AVG",
         "type": "\"double\""
        },
        {
         "metadata": "{}",
         "name": "LANDAREA_AVG",
         "type": "\"double\""
        },
        {
         "metadata": "{}",
         "name": "LIVINGAPARTMENTS_AVG",
         "type": "\"double\""
        },
        {
         "metadata": "{}",
         "name": "LIVINGAREA_AVG",
         "type": "\"double\""
        },
        {
         "metadata": "{}",
         "name": "NONLIVINGAPARTMENTS_AVG",
         "type": "\"double\""
        },
        {
         "metadata": "{}",
         "name": "NONLIVINGAREA_AVG",
         "type": "\"double\""
        },
        {
         "metadata": "{}",
         "name": "APARTMENTS_MODE",
         "type": "\"double\""
        },
        {
         "metadata": "{}",
         "name": "BASEMENTAREA_MODE",
         "type": "\"double\""
        },
        {
         "metadata": "{}",
         "name": "YEARS_BEGINEXPLUATATION_MODE",
         "type": "\"double\""
        },
        {
         "metadata": "{}",
         "name": "YEARS_BUILD_MODE",
         "type": "\"double\""
        },
        {
         "metadata": "{}",
         "name": "COMMONAREA_MODE",
         "type": "\"double\""
        },
        {
         "metadata": "{}",
         "name": "ELEVATORS_MODE",
         "type": "\"double\""
        },
        {
         "metadata": "{}",
         "name": "ENTRANCES_MODE",
         "type": "\"double\""
        },
        {
         "metadata": "{}",
         "name": "FLOORSMAX_MODE",
         "type": "\"double\""
        },
        {
         "metadata": "{}",
         "name": "FLOORSMIN_MODE",
         "type": "\"double\""
        },
        {
         "metadata": "{}",
         "name": "LANDAREA_MODE",
         "type": "\"double\""
        },
        {
         "metadata": "{}",
         "name": "LIVINGAPARTMENTS_MODE",
         "type": "\"double\""
        },
        {
         "metadata": "{}",
         "name": "LIVINGAREA_MODE",
         "type": "\"double\""
        },
        {
         "metadata": "{}",
         "name": "NONLIVINGAPARTMENTS_MODE",
         "type": "\"double\""
        },
        {
         "metadata": "{}",
         "name": "NONLIVINGAREA_MODE",
         "type": "\"double\""
        },
        {
         "metadata": "{}",
         "name": "APARTMENTS_MEDI",
         "type": "\"double\""
        },
        {
         "metadata": "{}",
         "name": "BASEMENTAREA_MEDI",
         "type": "\"double\""
        },
        {
         "metadata": "{}",
         "name": "YEARS_BEGINEXPLUATATION_MEDI",
         "type": "\"double\""
        },
        {
         "metadata": "{}",
         "name": "YEARS_BUILD_MEDI",
         "type": "\"double\""
        },
        {
         "metadata": "{}",
         "name": "COMMONAREA_MEDI",
         "type": "\"double\""
        },
        {
         "metadata": "{}",
         "name": "ELEVATORS_MEDI",
         "type": "\"double\""
        },
        {
         "metadata": "{}",
         "name": "ENTRANCES_MEDI",
         "type": "\"double\""
        },
        {
         "metadata": "{}",
         "name": "FLOORSMAX_MEDI",
         "type": "\"double\""
        },
        {
         "metadata": "{}",
         "name": "FLOORSMIN_MEDI",
         "type": "\"double\""
        },
        {
         "metadata": "{}",
         "name": "LANDAREA_MEDI",
         "type": "\"double\""
        },
        {
         "metadata": "{}",
         "name": "LIVINGAPARTMENTS_MEDI",
         "type": "\"double\""
        },
        {
         "metadata": "{}",
         "name": "LIVINGAREA_MEDI",
         "type": "\"double\""
        },
        {
         "metadata": "{}",
         "name": "NONLIVINGAPARTMENTS_MEDI",
         "type": "\"double\""
        },
        {
         "metadata": "{}",
         "name": "NONLIVINGAREA_MEDI",
         "type": "\"double\""
        },
        {
         "metadata": "{}",
         "name": "FONDKAPREMONT_MODE",
         "type": "\"string\""
        },
        {
         "metadata": "{}",
         "name": "HOUSETYPE_MODE",
         "type": "\"string\""
        },
        {
         "metadata": "{}",
         "name": "TOTALAREA_MODE",
         "type": "\"double\""
        },
        {
         "metadata": "{}",
         "name": "WALLSMATERIAL_MODE",
         "type": "\"string\""
        },
        {
         "metadata": "{}",
         "name": "EMERGENCYSTATE_MODE",
         "type": "\"string\""
        },
        {
         "metadata": "{}",
         "name": "OBS_30_CNT_SOCIAL_CIRCLE",
         "type": "\"double\""
        },
        {
         "metadata": "{}",
         "name": "DEF_30_CNT_SOCIAL_CIRCLE",
         "type": "\"double\""
        },
        {
         "metadata": "{}",
         "name": "OBS_60_CNT_SOCIAL_CIRCLE",
         "type": "\"double\""
        },
        {
         "metadata": "{}",
         "name": "DEF_60_CNT_SOCIAL_CIRCLE",
         "type": "\"double\""
        },
        {
         "metadata": "{}",
         "name": "DAYS_LAST_PHONE_CHANGE",
         "type": "\"double\""
        },
        {
         "metadata": "{}",
         "name": "FLAG_DOCUMENT_2",
         "type": "\"integer\""
        },
        {
         "metadata": "{}",
         "name": "FLAG_DOCUMENT_3",
         "type": "\"integer\""
        },
        {
         "metadata": "{}",
         "name": "FLAG_DOCUMENT_4",
         "type": "\"integer\""
        },
        {
         "metadata": "{}",
         "name": "FLAG_DOCUMENT_5",
         "type": "\"integer\""
        },
        {
         "metadata": "{}",
         "name": "FLAG_DOCUMENT_6",
         "type": "\"integer\""
        },
        {
         "metadata": "{}",
         "name": "FLAG_DOCUMENT_7",
         "type": "\"integer\""
        },
        {
         "metadata": "{}",
         "name": "FLAG_DOCUMENT_8",
         "type": "\"integer\""
        },
        {
         "metadata": "{}",
         "name": "FLAG_DOCUMENT_9",
         "type": "\"integer\""
        },
        {
         "metadata": "{}",
         "name": "FLAG_DOCUMENT_10",
         "type": "\"integer\""
        },
        {
         "metadata": "{}",
         "name": "FLAG_DOCUMENT_11",
         "type": "\"integer\""
        },
        {
         "metadata": "{}",
         "name": "FLAG_DOCUMENT_12",
         "type": "\"integer\""
        },
        {
         "metadata": "{}",
         "name": "FLAG_DOCUMENT_13",
         "type": "\"integer\""
        },
        {
         "metadata": "{}",
         "name": "FLAG_DOCUMENT_14",
         "type": "\"integer\""
        },
        {
         "metadata": "{}",
         "name": "FLAG_DOCUMENT_15",
         "type": "\"integer\""
        },
        {
         "metadata": "{}",
         "name": "FLAG_DOCUMENT_16",
         "type": "\"integer\""
        },
        {
         "metadata": "{}",
         "name": "FLAG_DOCUMENT_17",
         "type": "\"integer\""
        },
        {
         "metadata": "{}",
         "name": "FLAG_DOCUMENT_18",
         "type": "\"integer\""
        },
        {
         "metadata": "{}",
         "name": "FLAG_DOCUMENT_19",
         "type": "\"integer\""
        },
        {
         "metadata": "{}",
         "name": "FLAG_DOCUMENT_20",
         "type": "\"integer\""
        },
        {
         "metadata": "{}",
         "name": "FLAG_DOCUMENT_21",
         "type": "\"integer\""
        },
        {
         "metadata": "{}",
         "name": "AMT_REQ_CREDIT_BUREAU_HOUR",
         "type": "\"double\""
        },
        {
         "metadata": "{}",
         "name": "AMT_REQ_CREDIT_BUREAU_DAY",
         "type": "\"double\""
        },
        {
         "metadata": "{}",
         "name": "AMT_REQ_CREDIT_BUREAU_WEEK",
         "type": "\"double\""
        },
        {
         "metadata": "{}",
         "name": "AMT_REQ_CREDIT_BUREAU_MON",
         "type": "\"double\""
        },
        {
         "metadata": "{}",
         "name": "AMT_REQ_CREDIT_BUREAU_QRT",
         "type": "\"double\""
        },
        {
         "metadata": "{}",
         "name": "AMT_REQ_CREDIT_BUREAU_YEAR",
         "type": "\"double\""
        }
       ],
       "type": "table"
      }
     },
     "output_type": "display_data"
    }
   ],
   "source": [
    "display(application_df.limit(10))"
   ]
  },
  {
   "cell_type": "code",
   "execution_count": 0,
   "metadata": {
    "application/vnd.databricks.v1+cell": {
     "cellMetadata": {
      "byteLimit": 2048000,
      "rowLimit": 10000
     },
     "inputWidgets": {},
     "nuid": "6a2f5cc6-693e-4e7e-a4cb-14abe9f1252e",
     "showTitle": false,
     "tableResultSettingsMap": {},
     "title": ""
    }
   },
   "outputs": [
    {
     "output_type": "display_data",
     "data": {
      "text/html": [
       "<style scoped>\n",
       "  .table-result-container {\n",
       "    max-height: 300px;\n",
       "    overflow: auto;\n",
       "  }\n",
       "  table, th, td {\n",
       "    border: 1px solid black;\n",
       "    border-collapse: collapse;\n",
       "  }\n",
       "  th, td {\n",
       "    padding: 5px;\n",
       "  }\n",
       "  th {\n",
       "    text-align: left;\n",
       "  }\n",
       "</style><div class='table-result-container'><table class='table-result'><thead style='background-color: white'><tr><th>summary</th><th>SK_ID_CURR</th><th>TARGET</th><th>NAME_CONTRACT_TYPE</th><th>CODE_GENDER</th><th>FLAG_OWN_CAR</th><th>FLAG_OWN_REALTY</th><th>CNT_CHILDREN</th><th>AMT_INCOME_TOTAL</th><th>AMT_CREDIT</th><th>AMT_ANNUITY</th><th>AMT_GOODS_PRICE</th><th>NAME_TYPE_SUITE</th><th>NAME_INCOME_TYPE</th><th>NAME_EDUCATION_TYPE</th><th>NAME_FAMILY_STATUS</th><th>NAME_HOUSING_TYPE</th><th>REGION_POPULATION_RELATIVE</th><th>DAYS_BIRTH</th><th>DAYS_EMPLOYED</th><th>DAYS_REGISTRATION</th><th>DAYS_ID_PUBLISH</th><th>OWN_CAR_AGE</th><th>FLAG_MOBIL</th><th>FLAG_EMP_PHONE</th><th>FLAG_WORK_PHONE</th><th>FLAG_CONT_MOBILE</th><th>FLAG_PHONE</th><th>FLAG_EMAIL</th><th>OCCUPATION_TYPE</th><th>CNT_FAM_MEMBERS</th><th>REGION_RATING_CLIENT</th><th>REGION_RATING_CLIENT_W_CITY</th><th>WEEKDAY_APPR_PROCESS_START</th><th>HOUR_APPR_PROCESS_START</th><th>REG_REGION_NOT_LIVE_REGION</th><th>REG_REGION_NOT_WORK_REGION</th><th>LIVE_REGION_NOT_WORK_REGION</th><th>REG_CITY_NOT_LIVE_CITY</th><th>REG_CITY_NOT_WORK_CITY</th><th>LIVE_CITY_NOT_WORK_CITY</th><th>ORGANIZATION_TYPE</th><th>EXT_SOURCE_1</th><th>EXT_SOURCE_2</th><th>EXT_SOURCE_3</th><th>APARTMENTS_AVG</th><th>BASEMENTAREA_AVG</th><th>YEARS_BEGINEXPLUATATION_AVG</th><th>YEARS_BUILD_AVG</th><th>COMMONAREA_AVG</th><th>ELEVATORS_AVG</th><th>ENTRANCES_AVG</th><th>FLOORSMAX_AVG</th><th>FLOORSMIN_AVG</th><th>LANDAREA_AVG</th><th>LIVINGAPARTMENTS_AVG</th><th>LIVINGAREA_AVG</th><th>NONLIVINGAPARTMENTS_AVG</th><th>NONLIVINGAREA_AVG</th><th>APARTMENTS_MODE</th><th>BASEMENTAREA_MODE</th><th>YEARS_BEGINEXPLUATATION_MODE</th><th>YEARS_BUILD_MODE</th><th>COMMONAREA_MODE</th><th>ELEVATORS_MODE</th><th>ENTRANCES_MODE</th><th>FLOORSMAX_MODE</th><th>FLOORSMIN_MODE</th><th>LANDAREA_MODE</th><th>LIVINGAPARTMENTS_MODE</th><th>LIVINGAREA_MODE</th><th>NONLIVINGAPARTMENTS_MODE</th><th>NONLIVINGAREA_MODE</th><th>APARTMENTS_MEDI</th><th>BASEMENTAREA_MEDI</th><th>YEARS_BEGINEXPLUATATION_MEDI</th><th>YEARS_BUILD_MEDI</th><th>COMMONAREA_MEDI</th><th>ELEVATORS_MEDI</th><th>ENTRANCES_MEDI</th><th>FLOORSMAX_MEDI</th><th>FLOORSMIN_MEDI</th><th>LANDAREA_MEDI</th><th>LIVINGAPARTMENTS_MEDI</th><th>LIVINGAREA_MEDI</th><th>NONLIVINGAPARTMENTS_MEDI</th><th>NONLIVINGAREA_MEDI</th><th>FONDKAPREMONT_MODE</th><th>HOUSETYPE_MODE</th><th>TOTALAREA_MODE</th><th>WALLSMATERIAL_MODE</th><th>EMERGENCYSTATE_MODE</th><th>OBS_30_CNT_SOCIAL_CIRCLE</th><th>DEF_30_CNT_SOCIAL_CIRCLE</th><th>OBS_60_CNT_SOCIAL_CIRCLE</th><th>DEF_60_CNT_SOCIAL_CIRCLE</th><th>DAYS_LAST_PHONE_CHANGE</th><th>FLAG_DOCUMENT_2</th><th>FLAG_DOCUMENT_3</th><th>FLAG_DOCUMENT_4</th><th>FLAG_DOCUMENT_5</th><th>FLAG_DOCUMENT_6</th><th>FLAG_DOCUMENT_7</th><th>FLAG_DOCUMENT_8</th><th>FLAG_DOCUMENT_9</th><th>FLAG_DOCUMENT_10</th><th>FLAG_DOCUMENT_11</th><th>FLAG_DOCUMENT_12</th><th>FLAG_DOCUMENT_13</th><th>FLAG_DOCUMENT_14</th><th>FLAG_DOCUMENT_15</th><th>FLAG_DOCUMENT_16</th><th>FLAG_DOCUMENT_17</th><th>FLAG_DOCUMENT_18</th><th>FLAG_DOCUMENT_19</th><th>FLAG_DOCUMENT_20</th><th>FLAG_DOCUMENT_21</th><th>AMT_REQ_CREDIT_BUREAU_HOUR</th><th>AMT_REQ_CREDIT_BUREAU_DAY</th><th>AMT_REQ_CREDIT_BUREAU_WEEK</th><th>AMT_REQ_CREDIT_BUREAU_MON</th><th>AMT_REQ_CREDIT_BUREAU_QRT</th><th>AMT_REQ_CREDIT_BUREAU_YEAR</th></tr></thead><tbody><tr><td>count</td><td>307511</td><td>307511</td><td>307511</td><td>307511</td><td>307511</td><td>307511</td><td>307511</td><td>307511</td><td>307511</td><td>307499</td><td>307233</td><td>306219</td><td>307511</td><td>307511</td><td>307511</td><td>307511</td><td>307511</td><td>307511</td><td>307511</td><td>307511</td><td>307511</td><td>104582</td><td>307511</td><td>307511</td><td>307511</td><td>307511</td><td>307511</td><td>307511</td><td>211120</td><td>307509</td><td>307511</td><td>307511</td><td>307511</td><td>307511</td><td>307511</td><td>307511</td><td>307511</td><td>307511</td><td>307511</td><td>307511</td><td>307511</td><td>134133</td><td>306851</td><td>246546</td><td>151450</td><td>127568</td><td>157504</td><td>103023</td><td>92646</td><td>143620</td><td>152683</td><td>154491</td><td>98869</td><td>124921</td><td>97312</td><td>153161</td><td>93997</td><td>137829</td><td>151450</td><td>127568</td><td>157504</td><td>103023</td><td>92646</td><td>143620</td><td>152683</td><td>154491</td><td>98869</td><td>124921</td><td>97312</td><td>153161</td><td>93997</td><td>137829</td><td>151450</td><td>127568</td><td>157504</td><td>103023</td><td>92646</td><td>143620</td><td>152683</td><td>154491</td><td>98869</td><td>124921</td><td>97312</td><td>153161</td><td>93997</td><td>137829</td><td>97216</td><td>153214</td><td>159080</td><td>151170</td><td>161756</td><td>306490</td><td>306490</td><td>306490</td><td>306490</td><td>307510</td><td>307511</td><td>307511</td><td>307511</td><td>307511</td><td>307511</td><td>307511</td><td>307511</td><td>307511</td><td>307511</td><td>307511</td><td>307511</td><td>307511</td><td>307511</td><td>307511</td><td>307511</td><td>307511</td><td>307511</td><td>307511</td><td>307511</td><td>307511</td><td>265992</td><td>265992</td><td>265992</td><td>265992</td><td>265992</td><td>265992</td></tr><tr><td>mean</td><td>278180.51857657125</td><td>0.08072881945686496</td><td>null</td><td>null</td><td>null</td><td>null</td><td>0.4170517477423572</td><td>168797.9192969845</td><td>599025.9997057016</td><td>27108.573909183444</td><td>538396.2074288895</td><td>null</td><td>null</td><td>null</td><td>null</td><td>null</td><td>0.02086811205778947</td><td>-16036.995066843137</td><td>63815.04590404896</td><td>-4986.120327538419</td><td>-2994.2023732484367</td><td>12.061090818687727</td><td>0.9999967480838083</td><td>0.8198893698111612</td><td>0.1993684778755882</td><td>0.9981334001060125</td><td>0.28106636835755466</td><td>0.0567199222141647</td><td>null</td><td>2.152665450442101</td><td>2.0524631639193394</td><td>2.031520823645333</td><td>null</td><td>12.063418869568894</td><td>0.015144173704355291</td><td>0.05076891558350758</td><td>0.04065870814377372</td><td>0.07817281333025486</td><td>0.23045354475124466</td><td>0.17955455252007246</td><td>null</td><td>0.5021298056566621</td><td>0.5143926741308463</td><td>0.5108529061800121</td><td>0.11744049917466033</td><td>0.08844221905180052</td><td>0.9777348581622732</td><td>0.752471432592686</td><td>0.04462071541135205</td><td>0.07894151232418305</td><td>0.1497246700681123</td><td>0.2262819070368362</td><td>0.23189350049050692</td><td>0.06633318417239835</td><td>0.10077477495068154</td><td>0.10739901933259607</td><td>0.008808672617213057</td><td>0.02835775707579772</td><td>0.11423100693296864</td><td>0.08754321224758604</td><td>0.9770653729428284</td><td>0.759637322733821</td><td>0.042553137750146755</td><td>0.07448973610915821</td><td>0.14519265864574382</td><td>0.22231504747867964</td><td>0.22805849255070593</td><td>0.06495768445657842</td><td>0.1056448567494209</td><td>0.1059750504371198</td><td>0.008076387544283468</td><td>0.02702231968598884</td><td>0.11784992076592354</td><td>0.08795485466574764</td><td>0.9777522640694213</td><td>0.7557462721917102</td><td>0.044595101785290435</td><td>0.07807784431137002</td><td>0.14921278072876187</td><td>0.22589659009280993</td><td>0.23162493804929254</td><td>0.06716874904939986</td><td>0.10195447324073251</td><td>0.10860673604899224</td><td>0.008651013330213151</td><td>0.028235920597262987</td><td>null</td><td>null</td><td>0.10254666268544003</td><td>null</td><td>null</td><td>1.4222454239942575</td><td>0.1434206662533851</td><td>1.4052921791901856</td><td>0.10004894123788705</td><td>-962.8587883320868</td><td>4.2274910491006824E-5</td><td>0.7100233812774177</td><td>8.129790479039775E-5</td><td>0.015114906458630749</td><td>0.0880553866365756</td><td>1.9186305530533867E-4</td><td>0.08137595077899652</td><td>0.00389579559755586</td><td>2.276341334131137E-5</td><td>0.003912055178513939</td><td>6.503832383231819E-6</td><td>0.003525077151711646</td><td>0.0029364803210291664</td><td>0.0012097128232811183</td><td>0.009928100133003373</td><td>2.666571277125046E-4</td><td>0.008129790479039774</td><td>5.951006630657115E-4</td><td>5.072989258920819E-4</td><td>3.349473677364387E-4</td><td>0.006402448193930645</td><td>0.0070002105326475985</td><td>0.0343619356973142</td><td>0.26739526000781977</td><td>0.26547414959848414</td><td>1.899974435321363</td></tr><tr><td>stddev</td><td>102790.17534842453</td><td>0.27241864564839396</td><td>null</td><td>null</td><td>null</td><td>null</td><td>0.722121384437625</td><td>237123.14627886133</td><td>402490.776995855</td><td>14493.737315118293</td><td>369446.4605400575</td><td>null</td><td>null</td><td>null</td><td>null</td><td>null</td><td>0.013831280122704702</td><td>4363.988631785567</td><td>141275.76651872735</td><td>3522.8863209630667</td><td>1509.4504190030211</td><td>11.944811582242757</td><td>0.0018033070153514927</td><td>0.3842801989387643</td><td>0.3995262281502264</td><td>0.04316389414243237</td><td>0.4495205468567583</td><td>0.2313070397227076</td><td>null</td><td>0.9106815691792963</td><td>0.5090339028156798</td><td>0.5027370329147688</td><td>null</td><td>3.265832255437871</td><td>0.12212647628215204</td><td>0.21952582879696064</td><td>0.19749861882842365</td><td>0.26844377237340455</td><td>0.42112383591389735</td><td>0.38381661538559586</td><td>null</td><td>0.21106224927392492</td><td>0.1910601549849365</td><td>0.19484436446374886</td><td>0.10824029130032228</td><td>0.0824381587356851</td><td>0.059223314358362804</td><td>0.1132799266322472</td><td>0.07603574505040936</td><td>0.13457600110034426</td><td>0.10004912076035906</td><td>0.14464069954800407</td><td>0.1613802888001375</td><td>0.08118364070179357</td><td>0.09257613396049741</td><td>0.11056452318371335</td><td>0.04773166205034791</td><td>0.06952318332123608</td><td>0.10793603908753287</td><td>0.08430717486924556</td><td>0.06457543708048019</td><td>0.11011102734194829</td><td>0.07444452253839155</td><td>0.13225614415050646</td><td>0.10097698816024668</td><td>0.1437094065953158</td><td>0.16115977149547595</td><td>0.08175027780843545</td><td>0.09788044657879372</td><td>0.11184526587783382</td><td>0.04627626621983569</td><td>0.07025385904394456</td><td>0.10907590600115315</td><td>0.08217874951463416</td><td>0.05989731850511965</td><td>0.11206630964404386</td><td>0.07614426224091464</td><td>0.13446714769067486</td><td>0.10036839449763231</td><td>0.14506702591935136</td><td>0.16193354145715613</td><td>0.08216701028007203</td><td>0.0936423327115383</td><td>0.11226025867534761</td><td>0.04741472790780263</td><td>0.07016648150682485</td><td>null</td><td>null</td><td>0.10746232414961879</td><td>null</td><td>null</td><td>2.400988746109009</td><td>0.44669842938152915</td><td>2.379803351979379</td><td>0.36229080397557323</td><td>826.8084870406337</td><td>0.006501789045489791</td><td>0.4537519684327392</td><td>0.009016183216550889</td><td>0.12201022281354135</td><td>0.28337589286299</td><td>0.013850157677017418</td><td>0.27341204894451304</td><td>0.06229471080039369</td><td>0.004771055354069212</td><td>0.06242406326684518</td><td>0.0025502570915978662</td><td>0.0592677180737531</td><td>0.05410976737642879</td><td>0.0347599388276926</td><td>0.09914416233784908</td><td>0.016327488741596615</td><td>0.08979823610939555</td><td>0.02438746506586226</td><td>0.022517620268446132</td><td>0.01829853182243764</td><td>0.08384912844747694</td><td>0.11075740632435463</td><td>0.20468487581282396</td><td>0.916002396152617</td><td>0.7940556483207425</td><td>1.869294998181556</td></tr><tr><td>min</td><td>100002</td><td>0</td><td>Cash loans</td><td>F</td><td>N</td><td>N</td><td>0</td><td>25650.0</td><td>45000.0</td><td>1615.5</td><td>40500.0</td><td>Children</td><td>Businessman</td><td>Academic degree</td><td>Civil marriage</td><td>Co-op apartment</td><td>2.9E-4</td><td>-25229</td><td>-17912</td><td>-24672.0</td><td>-7197</td><td>0.0</td><td>0</td><td>0</td><td>0</td><td>0</td><td>0</td><td>0</td><td>Accountants</td><td>1.0</td><td>1</td><td>1</td><td>FRIDAY</td><td>0</td><td>0</td><td>0</td><td>0</td><td>0</td><td>0</td><td>0</td><td>Advertising</td><td>0.014568132412445587</td><td>8.173616518884397E-8</td><td>5.272652387098817E-4</td><td>0.0</td><td>0.0</td><td>0.0</td><td>0.0</td><td>0.0</td><td>0.0</td><td>0.0</td><td>0.0</td><td>0.0</td><td>0.0</td><td>0.0</td><td>0.0</td><td>0.0</td><td>0.0</td><td>0.0</td><td>0.0</td><td>0.0</td><td>0.0</td><td>0.0</td><td>0.0</td><td>0.0</td><td>0.0</td><td>0.0</td><td>0.0</td><td>0.0</td><td>0.0</td><td>0.0</td><td>0.0</td><td>0.0</td><td>0.0</td><td>0.0</td><td>0.0</td><td>0.0</td><td>0.0</td><td>0.0</td><td>0.0</td><td>0.0</td><td>0.0</td><td>0.0</td><td>0.0</td><td>0.0</td><td>0.0</td><td>not specified</td><td>block of flats</td><td>0.0</td><td>Block</td><td>No</td><td>0.0</td><td>0.0</td><td>0.0</td><td>0.0</td><td>-4292.0</td><td>0</td><td>0</td><td>0</td><td>0</td><td>0</td><td>0</td><td>0</td><td>0</td><td>0</td><td>0</td><td>0</td><td>0</td><td>0</td><td>0</td><td>0</td><td>0</td><td>0</td><td>0</td><td>0</td><td>0</td><td>0.0</td><td>0.0</td><td>0.0</td><td>0.0</td><td>0.0</td><td>0.0</td></tr><tr><td>max</td><td>456255</td><td>1</td><td>Revolving loans</td><td>XNA</td><td>Y</td><td>Y</td><td>19</td><td>1.17E8</td><td>4050000.0</td><td>258025.5</td><td>4050000.0</td><td>Unaccompanied</td><td>Working</td><td>Secondary / secondary special</td><td>Widow</td><td>With parents</td><td>0.072508</td><td>-7489</td><td>365243</td><td>0.0</td><td>0</td><td>91.0</td><td>1</td><td>1</td><td>1</td><td>1</td><td>1</td><td>1</td><td>Waiters/barmen staff</td><td>20.0</td><td>3</td><td>3</td><td>WEDNESDAY</td><td>23</td><td>1</td><td>1</td><td>1</td><td>1</td><td>1</td><td>1</td><td>XNA</td><td>0.9626927705613059</td><td>0.8549996664047012</td><td>0.8960095494948396</td><td>1.0</td><td>1.0</td><td>1.0</td><td>1.0</td><td>1.0</td><td>1.0</td><td>1.0</td><td>1.0</td><td>1.0</td><td>1.0</td><td>1.0</td><td>1.0</td><td>1.0</td><td>1.0</td><td>1.0</td><td>1.0</td><td>1.0</td><td>1.0</td><td>1.0</td><td>1.0</td><td>1.0</td><td>1.0</td><td>1.0</td><td>1.0</td><td>1.0</td><td>1.0</td><td>1.0</td><td>1.0</td><td>1.0</td><td>1.0</td><td>1.0</td><td>1.0</td><td>1.0</td><td>1.0</td><td>1.0</td><td>1.0</td><td>1.0</td><td>1.0</td><td>1.0</td><td>1.0</td><td>1.0</td><td>1.0</td><td>reg oper spec account</td><td>terraced house</td><td>1.0</td><td>Wooden</td><td>Yes</td><td>348.0</td><td>34.0</td><td>344.0</td><td>24.0</td><td>0.0</td><td>1</td><td>1</td><td>1</td><td>1</td><td>1</td><td>1</td><td>1</td><td>1</td><td>1</td><td>1</td><td>1</td><td>1</td><td>1</td><td>1</td><td>1</td><td>1</td><td>1</td><td>1</td><td>1</td><td>1</td><td>4.0</td><td>9.0</td><td>8.0</td><td>27.0</td><td>261.0</td><td>25.0</td></tr></tbody></table></div>"
      ]
     },
     "metadata": {
      "application/vnd.databricks.v1+output": {
       "addedWidgets": {},
       "aggData": [],
       "aggError": "",
       "aggOverflow": false,
       "aggSchema": [],
       "aggSeriesLimitReached": false,
       "aggType": "",
       "arguments": {},
       "columnCustomDisplayInfos": {},
       "data": [
        [
         "count",
         "307511",
         "307511",
         "307511",
         "307511",
         "307511",
         "307511",
         "307511",
         "307511",
         "307511",
         "307499",
         "307233",
         "306219",
         "307511",
         "307511",
         "307511",
         "307511",
         "307511",
         "307511",
         "307511",
         "307511",
         "307511",
         "104582",
         "307511",
         "307511",
         "307511",
         "307511",
         "307511",
         "307511",
         "211120",
         "307509",
         "307511",
         "307511",
         "307511",
         "307511",
         "307511",
         "307511",
         "307511",
         "307511",
         "307511",
         "307511",
         "307511",
         "134133",
         "306851",
         "246546",
         "151450",
         "127568",
         "157504",
         "103023",
         "92646",
         "143620",
         "152683",
         "154491",
         "98869",
         "124921",
         "97312",
         "153161",
         "93997",
         "137829",
         "151450",
         "127568",
         "157504",
         "103023",
         "92646",
         "143620",
         "152683",
         "154491",
         "98869",
         "124921",
         "97312",
         "153161",
         "93997",
         "137829",
         "151450",
         "127568",
         "157504",
         "103023",
         "92646",
         "143620",
         "152683",
         "154491",
         "98869",
         "124921",
         "97312",
         "153161",
         "93997",
         "137829",
         "97216",
         "153214",
         "159080",
         "151170",
         "161756",
         "306490",
         "306490",
         "306490",
         "306490",
         "307510",
         "307511",
         "307511",
         "307511",
         "307511",
         "307511",
         "307511",
         "307511",
         "307511",
         "307511",
         "307511",
         "307511",
         "307511",
         "307511",
         "307511",
         "307511",
         "307511",
         "307511",
         "307511",
         "307511",
         "307511",
         "265992",
         "265992",
         "265992",
         "265992",
         "265992",
         "265992"
        ],
        [
         "mean",
         "278180.51857657125",
         "0.08072881945686496",
         null,
         null,
         null,
         null,
         "0.4170517477423572",
         "168797.9192969845",
         "599025.9997057016",
         "27108.573909183444",
         "538396.2074288895",
         null,
         null,
         null,
         null,
         null,
         "0.02086811205778947",
         "-16036.995066843137",
         "63815.04590404896",
         "-4986.120327538419",
         "-2994.2023732484367",
         "12.061090818687727",
         "0.9999967480838083",
         "0.8198893698111612",
         "0.1993684778755882",
         "0.9981334001060125",
         "0.28106636835755466",
         "0.0567199222141647",
         null,
         "2.152665450442101",
         "2.0524631639193394",
         "2.031520823645333",
         null,
         "12.063418869568894",
         "0.015144173704355291",
         "0.05076891558350758",
         "0.04065870814377372",
         "0.07817281333025486",
         "0.23045354475124466",
         "0.17955455252007246",
         null,
         "0.5021298056566621",
         "0.5143926741308463",
         "0.5108529061800121",
         "0.11744049917466033",
         "0.08844221905180052",
         "0.9777348581622732",
         "0.752471432592686",
         "0.04462071541135205",
         "0.07894151232418305",
         "0.1497246700681123",
         "0.2262819070368362",
         "0.23189350049050692",
         "0.06633318417239835",
         "0.10077477495068154",
         "0.10739901933259607",
         "0.008808672617213057",
         "0.02835775707579772",
         "0.11423100693296864",
         "0.08754321224758604",
         "0.9770653729428284",
         "0.759637322733821",
         "0.042553137750146755",
         "0.07448973610915821",
         "0.14519265864574382",
         "0.22231504747867964",
         "0.22805849255070593",
         "0.06495768445657842",
         "0.1056448567494209",
         "0.1059750504371198",
         "0.008076387544283468",
         "0.02702231968598884",
         "0.11784992076592354",
         "0.08795485466574764",
         "0.9777522640694213",
         "0.7557462721917102",
         "0.044595101785290435",
         "0.07807784431137002",
         "0.14921278072876187",
         "0.22589659009280993",
         "0.23162493804929254",
         "0.06716874904939986",
         "0.10195447324073251",
         "0.10860673604899224",
         "0.008651013330213151",
         "0.028235920597262987",
         null,
         null,
         "0.10254666268544003",
         null,
         null,
         "1.4222454239942575",
         "0.1434206662533851",
         "1.4052921791901856",
         "0.10004894123788705",
         "-962.8587883320868",
         "4.2274910491006824E-5",
         "0.7100233812774177",
         "8.129790479039775E-5",
         "0.015114906458630749",
         "0.0880553866365756",
         "1.9186305530533867E-4",
         "0.08137595077899652",
         "0.00389579559755586",
         "2.276341334131137E-5",
         "0.003912055178513939",
         "6.503832383231819E-6",
         "0.003525077151711646",
         "0.0029364803210291664",
         "0.0012097128232811183",
         "0.009928100133003373",
         "2.666571277125046E-4",
         "0.008129790479039774",
         "5.951006630657115E-4",
         "5.072989258920819E-4",
         "3.349473677364387E-4",
         "0.006402448193930645",
         "0.0070002105326475985",
         "0.0343619356973142",
         "0.26739526000781977",
         "0.26547414959848414",
         "1.899974435321363"
        ],
        [
         "stddev",
         "102790.17534842453",
         "0.27241864564839396",
         null,
         null,
         null,
         null,
         "0.722121384437625",
         "237123.14627886133",
         "402490.776995855",
         "14493.737315118293",
         "369446.4605400575",
         null,
         null,
         null,
         null,
         null,
         "0.013831280122704702",
         "4363.988631785567",
         "141275.76651872735",
         "3522.8863209630667",
         "1509.4504190030211",
         "11.944811582242757",
         "0.0018033070153514927",
         "0.3842801989387643",
         "0.3995262281502264",
         "0.04316389414243237",
         "0.4495205468567583",
         "0.2313070397227076",
         null,
         "0.9106815691792963",
         "0.5090339028156798",
         "0.5027370329147688",
         null,
         "3.265832255437871",
         "0.12212647628215204",
         "0.21952582879696064",
         "0.19749861882842365",
         "0.26844377237340455",
         "0.42112383591389735",
         "0.38381661538559586",
         null,
         "0.21106224927392492",
         "0.1910601549849365",
         "0.19484436446374886",
         "0.10824029130032228",
         "0.0824381587356851",
         "0.059223314358362804",
         "0.1132799266322472",
         "0.07603574505040936",
         "0.13457600110034426",
         "0.10004912076035906",
         "0.14464069954800407",
         "0.1613802888001375",
         "0.08118364070179357",
         "0.09257613396049741",
         "0.11056452318371335",
         "0.04773166205034791",
         "0.06952318332123608",
         "0.10793603908753287",
         "0.08430717486924556",
         "0.06457543708048019",
         "0.11011102734194829",
         "0.07444452253839155",
         "0.13225614415050646",
         "0.10097698816024668",
         "0.1437094065953158",
         "0.16115977149547595",
         "0.08175027780843545",
         "0.09788044657879372",
         "0.11184526587783382",
         "0.04627626621983569",
         "0.07025385904394456",
         "0.10907590600115315",
         "0.08217874951463416",
         "0.05989731850511965",
         "0.11206630964404386",
         "0.07614426224091464",
         "0.13446714769067486",
         "0.10036839449763231",
         "0.14506702591935136",
         "0.16193354145715613",
         "0.08216701028007203",
         "0.0936423327115383",
         "0.11226025867534761",
         "0.04741472790780263",
         "0.07016648150682485",
         null,
         null,
         "0.10746232414961879",
         null,
         null,
         "2.400988746109009",
         "0.44669842938152915",
         "2.379803351979379",
         "0.36229080397557323",
         "826.8084870406337",
         "0.006501789045489791",
         "0.4537519684327392",
         "0.009016183216550889",
         "0.12201022281354135",
         "0.28337589286299",
         "0.013850157677017418",
         "0.27341204894451304",
         "0.06229471080039369",
         "0.004771055354069212",
         "0.06242406326684518",
         "0.0025502570915978662",
         "0.0592677180737531",
         "0.05410976737642879",
         "0.0347599388276926",
         "0.09914416233784908",
         "0.016327488741596615",
         "0.08979823610939555",
         "0.02438746506586226",
         "0.022517620268446132",
         "0.01829853182243764",
         "0.08384912844747694",
         "0.11075740632435463",
         "0.20468487581282396",
         "0.916002396152617",
         "0.7940556483207425",
         "1.869294998181556"
        ],
        [
         "min",
         "100002",
         "0",
         "Cash loans",
         "F",
         "N",
         "N",
         "0",
         "25650.0",
         "45000.0",
         "1615.5",
         "40500.0",
         "Children",
         "Businessman",
         "Academic degree",
         "Civil marriage",
         "Co-op apartment",
         "2.9E-4",
         "-25229",
         "-17912",
         "-24672.0",
         "-7197",
         "0.0",
         "0",
         "0",
         "0",
         "0",
         "0",
         "0",
         "Accountants",
         "1.0",
         "1",
         "1",
         "FRIDAY",
         "0",
         "0",
         "0",
         "0",
         "0",
         "0",
         "0",
         "Advertising",
         "0.014568132412445587",
         "8.173616518884397E-8",
         "5.272652387098817E-4",
         "0.0",
         "0.0",
         "0.0",
         "0.0",
         "0.0",
         "0.0",
         "0.0",
         "0.0",
         "0.0",
         "0.0",
         "0.0",
         "0.0",
         "0.0",
         "0.0",
         "0.0",
         "0.0",
         "0.0",
         "0.0",
         "0.0",
         "0.0",
         "0.0",
         "0.0",
         "0.0",
         "0.0",
         "0.0",
         "0.0",
         "0.0",
         "0.0",
         "0.0",
         "0.0",
         "0.0",
         "0.0",
         "0.0",
         "0.0",
         "0.0",
         "0.0",
         "0.0",
         "0.0",
         "0.0",
         "0.0",
         "0.0",
         "0.0",
         "not specified",
         "block of flats",
         "0.0",
         "Block",
         "No",
         "0.0",
         "0.0",
         "0.0",
         "0.0",
         "-4292.0",
         "0",
         "0",
         "0",
         "0",
         "0",
         "0",
         "0",
         "0",
         "0",
         "0",
         "0",
         "0",
         "0",
         "0",
         "0",
         "0",
         "0",
         "0",
         "0",
         "0",
         "0.0",
         "0.0",
         "0.0",
         "0.0",
         "0.0",
         "0.0"
        ],
        [
         "max",
         "456255",
         "1",
         "Revolving loans",
         "XNA",
         "Y",
         "Y",
         "19",
         "1.17E8",
         "4050000.0",
         "258025.5",
         "4050000.0",
         "Unaccompanied",
         "Working",
         "Secondary / secondary special",
         "Widow",
         "With parents",
         "0.072508",
         "-7489",
         "365243",
         "0.0",
         "0",
         "91.0",
         "1",
         "1",
         "1",
         "1",
         "1",
         "1",
         "Waiters/barmen staff",
         "20.0",
         "3",
         "3",
         "WEDNESDAY",
         "23",
         "1",
         "1",
         "1",
         "1",
         "1",
         "1",
         "XNA",
         "0.9626927705613059",
         "0.8549996664047012",
         "0.8960095494948396",
         "1.0",
         "1.0",
         "1.0",
         "1.0",
         "1.0",
         "1.0",
         "1.0",
         "1.0",
         "1.0",
         "1.0",
         "1.0",
         "1.0",
         "1.0",
         "1.0",
         "1.0",
         "1.0",
         "1.0",
         "1.0",
         "1.0",
         "1.0",
         "1.0",
         "1.0",
         "1.0",
         "1.0",
         "1.0",
         "1.0",
         "1.0",
         "1.0",
         "1.0",
         "1.0",
         "1.0",
         "1.0",
         "1.0",
         "1.0",
         "1.0",
         "1.0",
         "1.0",
         "1.0",
         "1.0",
         "1.0",
         "1.0",
         "1.0",
         "reg oper spec account",
         "terraced house",
         "1.0",
         "Wooden",
         "Yes",
         "348.0",
         "34.0",
         "344.0",
         "24.0",
         "0.0",
         "1",
         "1",
         "1",
         "1",
         "1",
         "1",
         "1",
         "1",
         "1",
         "1",
         "1",
         "1",
         "1",
         "1",
         "1",
         "1",
         "1",
         "1",
         "1",
         "1",
         "4.0",
         "9.0",
         "8.0",
         "27.0",
         "261.0",
         "25.0"
        ]
       ],
       "datasetInfos": [],
       "dbfsResultPath": null,
       "isJsonSchema": true,
       "metadata": {},
       "overflow": false,
       "plotOptions": {
        "customPlotOptions": {},
        "displayType": "table",
        "pivotAggregation": null,
        "pivotColumns": null,
        "xColumns": null,
        "yColumns": null
       },
       "removedWidgets": [],
       "schema": [
        {
         "metadata": "{}",
         "name": "summary",
         "type": "\"string\""
        },
        {
         "metadata": "{}",
         "name": "SK_ID_CURR",
         "type": "\"string\""
        },
        {
         "metadata": "{}",
         "name": "TARGET",
         "type": "\"string\""
        },
        {
         "metadata": "{}",
         "name": "NAME_CONTRACT_TYPE",
         "type": "\"string\""
        },
        {
         "metadata": "{}",
         "name": "CODE_GENDER",
         "type": "\"string\""
        },
        {
         "metadata": "{}",
         "name": "FLAG_OWN_CAR",
         "type": "\"string\""
        },
        {
         "metadata": "{}",
         "name": "FLAG_OWN_REALTY",
         "type": "\"string\""
        },
        {
         "metadata": "{}",
         "name": "CNT_CHILDREN",
         "type": "\"string\""
        },
        {
         "metadata": "{}",
         "name": "AMT_INCOME_TOTAL",
         "type": "\"string\""
        },
        {
         "metadata": "{}",
         "name": "AMT_CREDIT",
         "type": "\"string\""
        },
        {
         "metadata": "{}",
         "name": "AMT_ANNUITY",
         "type": "\"string\""
        },
        {
         "metadata": "{}",
         "name": "AMT_GOODS_PRICE",
         "type": "\"string\""
        },
        {
         "metadata": "{}",
         "name": "NAME_TYPE_SUITE",
         "type": "\"string\""
        },
        {
         "metadata": "{}",
         "name": "NAME_INCOME_TYPE",
         "type": "\"string\""
        },
        {
         "metadata": "{}",
         "name": "NAME_EDUCATION_TYPE",
         "type": "\"string\""
        },
        {
         "metadata": "{}",
         "name": "NAME_FAMILY_STATUS",
         "type": "\"string\""
        },
        {
         "metadata": "{}",
         "name": "NAME_HOUSING_TYPE",
         "type": "\"string\""
        },
        {
         "metadata": "{}",
         "name": "REGION_POPULATION_RELATIVE",
         "type": "\"string\""
        },
        {
         "metadata": "{}",
         "name": "DAYS_BIRTH",
         "type": "\"string\""
        },
        {
         "metadata": "{}",
         "name": "DAYS_EMPLOYED",
         "type": "\"string\""
        },
        {
         "metadata": "{}",
         "name": "DAYS_REGISTRATION",
         "type": "\"string\""
        },
        {
         "metadata": "{}",
         "name": "DAYS_ID_PUBLISH",
         "type": "\"string\""
        },
        {
         "metadata": "{}",
         "name": "OWN_CAR_AGE",
         "type": "\"string\""
        },
        {
         "metadata": "{}",
         "name": "FLAG_MOBIL",
         "type": "\"string\""
        },
        {
         "metadata": "{}",
         "name": "FLAG_EMP_PHONE",
         "type": "\"string\""
        },
        {
         "metadata": "{}",
         "name": "FLAG_WORK_PHONE",
         "type": "\"string\""
        },
        {
         "metadata": "{}",
         "name": "FLAG_CONT_MOBILE",
         "type": "\"string\""
        },
        {
         "metadata": "{}",
         "name": "FLAG_PHONE",
         "type": "\"string\""
        },
        {
         "metadata": "{}",
         "name": "FLAG_EMAIL",
         "type": "\"string\""
        },
        {
         "metadata": "{}",
         "name": "OCCUPATION_TYPE",
         "type": "\"string\""
        },
        {
         "metadata": "{}",
         "name": "CNT_FAM_MEMBERS",
         "type": "\"string\""
        },
        {
         "metadata": "{}",
         "name": "REGION_RATING_CLIENT",
         "type": "\"string\""
        },
        {
         "metadata": "{}",
         "name": "REGION_RATING_CLIENT_W_CITY",
         "type": "\"string\""
        },
        {
         "metadata": "{}",
         "name": "WEEKDAY_APPR_PROCESS_START",
         "type": "\"string\""
        },
        {
         "metadata": "{}",
         "name": "HOUR_APPR_PROCESS_START",
         "type": "\"string\""
        },
        {
         "metadata": "{}",
         "name": "REG_REGION_NOT_LIVE_REGION",
         "type": "\"string\""
        },
        {
         "metadata": "{}",
         "name": "REG_REGION_NOT_WORK_REGION",
         "type": "\"string\""
        },
        {
         "metadata": "{}",
         "name": "LIVE_REGION_NOT_WORK_REGION",
         "type": "\"string\""
        },
        {
         "metadata": "{}",
         "name": "REG_CITY_NOT_LIVE_CITY",
         "type": "\"string\""
        },
        {
         "metadata": "{}",
         "name": "REG_CITY_NOT_WORK_CITY",
         "type": "\"string\""
        },
        {
         "metadata": "{}",
         "name": "LIVE_CITY_NOT_WORK_CITY",
         "type": "\"string\""
        },
        {
         "metadata": "{}",
         "name": "ORGANIZATION_TYPE",
         "type": "\"string\""
        },
        {
         "metadata": "{}",
         "name": "EXT_SOURCE_1",
         "type": "\"string\""
        },
        {
         "metadata": "{}",
         "name": "EXT_SOURCE_2",
         "type": "\"string\""
        },
        {
         "metadata": "{}",
         "name": "EXT_SOURCE_3",
         "type": "\"string\""
        },
        {
         "metadata": "{}",
         "name": "APARTMENTS_AVG",
         "type": "\"string\""
        },
        {
         "metadata": "{}",
         "name": "BASEMENTAREA_AVG",
         "type": "\"string\""
        },
        {
         "metadata": "{}",
         "name": "YEARS_BEGINEXPLUATATION_AVG",
         "type": "\"string\""
        },
        {
         "metadata": "{}",
         "name": "YEARS_BUILD_AVG",
         "type": "\"string\""
        },
        {
         "metadata": "{}",
         "name": "COMMONAREA_AVG",
         "type": "\"string\""
        },
        {
         "metadata": "{}",
         "name": "ELEVATORS_AVG",
         "type": "\"string\""
        },
        {
         "metadata": "{}",
         "name": "ENTRANCES_AVG",
         "type": "\"string\""
        },
        {
         "metadata": "{}",
         "name": "FLOORSMAX_AVG",
         "type": "\"string\""
        },
        {
         "metadata": "{}",
         "name": "FLOORSMIN_AVG",
         "type": "\"string\""
        },
        {
         "metadata": "{}",
         "name": "LANDAREA_AVG",
         "type": "\"string\""
        },
        {
         "metadata": "{}",
         "name": "LIVINGAPARTMENTS_AVG",
         "type": "\"string\""
        },
        {
         "metadata": "{}",
         "name": "LIVINGAREA_AVG",
         "type": "\"string\""
        },
        {
         "metadata": "{}",
         "name": "NONLIVINGAPARTMENTS_AVG",
         "type": "\"string\""
        },
        {
         "metadata": "{}",
         "name": "NONLIVINGAREA_AVG",
         "type": "\"string\""
        },
        {
         "metadata": "{}",
         "name": "APARTMENTS_MODE",
         "type": "\"string\""
        },
        {
         "metadata": "{}",
         "name": "BASEMENTAREA_MODE",
         "type": "\"string\""
        },
        {
         "metadata": "{}",
         "name": "YEARS_BEGINEXPLUATATION_MODE",
         "type": "\"string\""
        },
        {
         "metadata": "{}",
         "name": "YEARS_BUILD_MODE",
         "type": "\"string\""
        },
        {
         "metadata": "{}",
         "name": "COMMONAREA_MODE",
         "type": "\"string\""
        },
        {
         "metadata": "{}",
         "name": "ELEVATORS_MODE",
         "type": "\"string\""
        },
        {
         "metadata": "{}",
         "name": "ENTRANCES_MODE",
         "type": "\"string\""
        },
        {
         "metadata": "{}",
         "name": "FLOORSMAX_MODE",
         "type": "\"string\""
        },
        {
         "metadata": "{}",
         "name": "FLOORSMIN_MODE",
         "type": "\"string\""
        },
        {
         "metadata": "{}",
         "name": "LANDAREA_MODE",
         "type": "\"string\""
        },
        {
         "metadata": "{}",
         "name": "LIVINGAPARTMENTS_MODE",
         "type": "\"string\""
        },
        {
         "metadata": "{}",
         "name": "LIVINGAREA_MODE",
         "type": "\"string\""
        },
        {
         "metadata": "{}",
         "name": "NONLIVINGAPARTMENTS_MODE",
         "type": "\"string\""
        },
        {
         "metadata": "{}",
         "name": "NONLIVINGAREA_MODE",
         "type": "\"string\""
        },
        {
         "metadata": "{}",
         "name": "APARTMENTS_MEDI",
         "type": "\"string\""
        },
        {
         "metadata": "{}",
         "name": "BASEMENTAREA_MEDI",
         "type": "\"string\""
        },
        {
         "metadata": "{}",
         "name": "YEARS_BEGINEXPLUATATION_MEDI",
         "type": "\"string\""
        },
        {
         "metadata": "{}",
         "name": "YEARS_BUILD_MEDI",
         "type": "\"string\""
        },
        {
         "metadata": "{}",
         "name": "COMMONAREA_MEDI",
         "type": "\"string\""
        },
        {
         "metadata": "{}",
         "name": "ELEVATORS_MEDI",
         "type": "\"string\""
        },
        {
         "metadata": "{}",
         "name": "ENTRANCES_MEDI",
         "type": "\"string\""
        },
        {
         "metadata": "{}",
         "name": "FLOORSMAX_MEDI",
         "type": "\"string\""
        },
        {
         "metadata": "{}",
         "name": "FLOORSMIN_MEDI",
         "type": "\"string\""
        },
        {
         "metadata": "{}",
         "name": "LANDAREA_MEDI",
         "type": "\"string\""
        },
        {
         "metadata": "{}",
         "name": "LIVINGAPARTMENTS_MEDI",
         "type": "\"string\""
        },
        {
         "metadata": "{}",
         "name": "LIVINGAREA_MEDI",
         "type": "\"string\""
        },
        {
         "metadata": "{}",
         "name": "NONLIVINGAPARTMENTS_MEDI",
         "type": "\"string\""
        },
        {
         "metadata": "{}",
         "name": "NONLIVINGAREA_MEDI",
         "type": "\"string\""
        },
        {
         "metadata": "{}",
         "name": "FONDKAPREMONT_MODE",
         "type": "\"string\""
        },
        {
         "metadata": "{}",
         "name": "HOUSETYPE_MODE",
         "type": "\"string\""
        },
        {
         "metadata": "{}",
         "name": "TOTALAREA_MODE",
         "type": "\"string\""
        },
        {
         "metadata": "{}",
         "name": "WALLSMATERIAL_MODE",
         "type": "\"string\""
        },
        {
         "metadata": "{}",
         "name": "EMERGENCYSTATE_MODE",
         "type": "\"string\""
        },
        {
         "metadata": "{}",
         "name": "OBS_30_CNT_SOCIAL_CIRCLE",
         "type": "\"string\""
        },
        {
         "metadata": "{}",
         "name": "DEF_30_CNT_SOCIAL_CIRCLE",
         "type": "\"string\""
        },
        {
         "metadata": "{}",
         "name": "OBS_60_CNT_SOCIAL_CIRCLE",
         "type": "\"string\""
        },
        {
         "metadata": "{}",
         "name": "DEF_60_CNT_SOCIAL_CIRCLE",
         "type": "\"string\""
        },
        {
         "metadata": "{}",
         "name": "DAYS_LAST_PHONE_CHANGE",
         "type": "\"string\""
        },
        {
         "metadata": "{}",
         "name": "FLAG_DOCUMENT_2",
         "type": "\"string\""
        },
        {
         "metadata": "{}",
         "name": "FLAG_DOCUMENT_3",
         "type": "\"string\""
        },
        {
         "metadata": "{}",
         "name": "FLAG_DOCUMENT_4",
         "type": "\"string\""
        },
        {
         "metadata": "{}",
         "name": "FLAG_DOCUMENT_5",
         "type": "\"string\""
        },
        {
         "metadata": "{}",
         "name": "FLAG_DOCUMENT_6",
         "type": "\"string\""
        },
        {
         "metadata": "{}",
         "name": "FLAG_DOCUMENT_7",
         "type": "\"string\""
        },
        {
         "metadata": "{}",
         "name": "FLAG_DOCUMENT_8",
         "type": "\"string\""
        },
        {
         "metadata": "{}",
         "name": "FLAG_DOCUMENT_9",
         "type": "\"string\""
        },
        {
         "metadata": "{}",
         "name": "FLAG_DOCUMENT_10",
         "type": "\"string\""
        },
        {
         "metadata": "{}",
         "name": "FLAG_DOCUMENT_11",
         "type": "\"string\""
        },
        {
         "metadata": "{}",
         "name": "FLAG_DOCUMENT_12",
         "type": "\"string\""
        },
        {
         "metadata": "{}",
         "name": "FLAG_DOCUMENT_13",
         "type": "\"string\""
        },
        {
         "metadata": "{}",
         "name": "FLAG_DOCUMENT_14",
         "type": "\"string\""
        },
        {
         "metadata": "{}",
         "name": "FLAG_DOCUMENT_15",
         "type": "\"string\""
        },
        {
         "metadata": "{}",
         "name": "FLAG_DOCUMENT_16",
         "type": "\"string\""
        },
        {
         "metadata": "{}",
         "name": "FLAG_DOCUMENT_17",
         "type": "\"string\""
        },
        {
         "metadata": "{}",
         "name": "FLAG_DOCUMENT_18",
         "type": "\"string\""
        },
        {
         "metadata": "{}",
         "name": "FLAG_DOCUMENT_19",
         "type": "\"string\""
        },
        {
         "metadata": "{}",
         "name": "FLAG_DOCUMENT_20",
         "type": "\"string\""
        },
        {
         "metadata": "{}",
         "name": "FLAG_DOCUMENT_21",
         "type": "\"string\""
        },
        {
         "metadata": "{}",
         "name": "AMT_REQ_CREDIT_BUREAU_HOUR",
         "type": "\"string\""
        },
        {
         "metadata": "{}",
         "name": "AMT_REQ_CREDIT_BUREAU_DAY",
         "type": "\"string\""
        },
        {
         "metadata": "{}",
         "name": "AMT_REQ_CREDIT_BUREAU_WEEK",
         "type": "\"string\""
        },
        {
         "metadata": "{}",
         "name": "AMT_REQ_CREDIT_BUREAU_MON",
         "type": "\"string\""
        },
        {
         "metadata": "{}",
         "name": "AMT_REQ_CREDIT_BUREAU_QRT",
         "type": "\"string\""
        },
        {
         "metadata": "{}",
         "name": "AMT_REQ_CREDIT_BUREAU_YEAR",
         "type": "\"string\""
        }
       ],
       "type": "table"
      }
     },
     "output_type": "display_data"
    }
   ],
   "source": [
    "display(application_df.describe())"
   ]
  },
  {
   "cell_type": "markdown",
   "metadata": {
    "application/vnd.databricks.v1+cell": {
     "cellMetadata": {},
     "inputWidgets": {},
     "nuid": "37595a4c-d169-4159-b302-aaeb93823f66",
     "showTitle": false,
     "tableResultSettingsMap": {},
     "title": ""
    }
   },
   "source": [
    "#### 1. Target Imbalance:\n",
    "The `TARGET` variable has a mean of approximately **0.08**, confirming a **strong class imbalance** — only ~8% of applicants default.  \n",
    "This requires:\n",
    "- **Stratified sampling** during train-test split  \n",
    "- Evaluation metrics like **AUC**, **F1**, or **log loss** over accuracy\n",
    "\n",
    "---\n",
    "\n",
    "#### 2. Missing Values:\n",
    "Many columns — especially **apartment-level features** and **housing metadata** — have significantly fewer entries than 307,511, suggesting heavy missingness.  \n",
    "Action Plan:\n",
    "- Use null percentage summaries to decide on **imputation or removal**  \n",
    "- Prioritize important columns for retention during feature engineering \n",
    "---\n",
    "\n",
    "#### 3. Applicant Demographics & Behavior:\n",
    "\n",
    "- **Age (`DAYS_BIRTH`)**: Mean age is ~44 years (16037 / 365)  \n",
    "- **Employment (`DAYS_EMPLOYED`)**: Contains unrealistic values (e.g., 365243), which likely indicate retirees or placeholder codes — needs cleaning\n",
    "- **Income & Credit**:  \n",
    "  - `AMT_INCOME_TOTAL` and `AMT_CREDIT` show **high variance** and **extreme outliers**  \n",
    "  - These features are ideal candidates for **log transformation** or **binning**\n",
    "\n",
    "---\n",
    "\n",
    "#### 4. Data Consistency & Encoding Clues:\n",
    "Some categorical features such as `NAME_CONTRACT_TYPE`, `CODE_GENDER`, `OCCUPATION_TYPE`, etc., contain **ambiguous entries** like `'XNA'`.  \n",
    "These will require:\n",
    "- **Cleaning and consolidation**\n",
    "- Proper encoding during (e.g., one-hot or target encoding)\n",
    "\n",
    "---\n",
    "\n",
    "#### 5. Engineered External Scores:\n",
    "Features `EXT_SOURCE_1`, `EXT_SOURCE_2`, and `EXT_SOURCE_3`:\n",
    "- Appear to be **pre-normalized** (values in 0–1 range)\n",
    "- Typically **strong predictors** in credit risk modeling  \n",
    "Must visualize their correlation with `TARGET` in `01_eda.ipynb`\n",
    "\n",
    "---\n",
    "\n",
    "#### 6. Document Flags and Count Features:\n",
    "Flags like `FLAG_DOCUMENT_3`, `FLAG_PHONE`, etc.:\n",
    "- Are mostly **binary indicators** or **low-range counts**\n",
    "- Can be used directly or **combined into composite features** (e.g., total documents submitted)\n"
   ]
  },
  {
   "cell_type": "code",
   "execution_count": 0,
   "metadata": {
    "application/vnd.databricks.v1+cell": {
     "cellMetadata": {
      "byteLimit": 2048000,
      "rowLimit": 10000
     },
     "inputWidgets": {},
     "nuid": "76bec5d3-39d6-4536-a0d0-0535c0b2223b",
     "showTitle": false,
     "tableResultSettingsMap": {},
     "title": ""
    }
   },
   "outputs": [
    {
     "output_type": "stream",
     "name": "stdout",
     "output_type": "stream",
     "text": [
      "(307511, 122)\n"
     ]
    }
   ],
   "source": [
    "# Calculating the number of Rows and Columns\n",
    "num_rows = application_df.count()\n",
    "num_cols = len(application_df.columns)\n",
    "print(f\"({num_rows}, {num_cols})\")"
   ]
  },
  {
   "cell_type": "code",
   "execution_count": 0,
   "metadata": {
    "application/vnd.databricks.v1+cell": {
     "cellMetadata": {
      "byteLimit": 2048000,
      "rowLimit": 10000
     },
     "inputWidgets": {},
     "nuid": "d4a340a3-3231-414f-aa2f-35b8b972e8ad",
     "showTitle": false,
     "tableResultSettingsMap": {},
     "title": ""
    }
   },
   "outputs": [
    {
     "output_type": "execute_result",
     "data": {
      "text/plain": [
       "Counter({'double': 65, 'int': 41, 'string': 16})"
      ]
     },
     "execution_count": 12,
     "metadata": {},
     "output_type": "execute_result"
    }
   ],
   "source": [
    "from collections import Counter\n",
    "Counter(dict(application_df.dtypes).values())"
   ]
  },
  {
   "cell_type": "code",
   "execution_count": 0,
   "metadata": {
    "application/vnd.databricks.v1+cell": {
     "cellMetadata": {
      "byteLimit": 2048000,
      "rowLimit": 10000
     },
     "inputWidgets": {},
     "nuid": "95dbc5a3-77b2-438f-bbde-e4b1f3a1aea7",
     "showTitle": false,
     "tableResultSettingsMap": {},
     "title": ""
    }
   },
   "outputs": [
    {
     "output_type": "stream",
     "name": "stdout",
     "output_type": "stream",
     "text": [
      "NAME_CONTRACT_TYPE: 2\nCODE_GENDER: 3\nFLAG_OWN_CAR: 2\nFLAG_OWN_REALTY: 2\nNAME_TYPE_SUITE: 8\nNAME_INCOME_TYPE: 8\nNAME_EDUCATION_TYPE: 5\nNAME_FAMILY_STATUS: 6\nNAME_HOUSING_TYPE: 6\nOCCUPATION_TYPE: 19\nWEEKDAY_APPR_PROCESS_START: 7\nORGANIZATION_TYPE: 58\nFONDKAPREMONT_MODE: 5\nHOUSETYPE_MODE: 4\nWALLSMATERIAL_MODE: 8\nEMERGENCYSTATE_MODE: 3\n"
     ]
    }
   ],
   "source": [
    "from pyspark.sql.functions import col\n",
    "\n",
    "# Filter only string (categorical) columns\n",
    "categorical_cols = [field.name for field in application_df.schema.fields if field.dataType.simpleString() == 'string']\n",
    "\n",
    "# Show number of unique values for each categorical column\n",
    "for col_name in categorical_cols:\n",
    "    count = application_df.select(col_name).distinct().count()\n",
    "    print(f\"{col_name}: {count}\")"
   ]
  },
  {
   "cell_type": "code",
   "execution_count": 0,
   "metadata": {
    "application/vnd.databricks.v1+cell": {
     "cellMetadata": {
      "byteLimit": 2048000,
      "rowLimit": 10000
     },
     "inputWidgets": {},
     "nuid": "35f93e75-ef66-449a-8d77-8fcbd56de970",
     "showTitle": false,
     "tableResultSettingsMap": {},
     "title": ""
    }
   },
   "outputs": [
    {
     "output_type": "stream",
     "name": "stdout",
     "output_type": "stream",
     "text": [
      "+----------------------------+------------------+\n|column                      |null_percent      |\n+----------------------------+------------------+\n|COMMONAREA_AVG              |69.87229725115525 |\n|COMMONAREA_MODE             |69.87229725115525 |\n|COMMONAREA_MEDI             |69.87229725115525 |\n|NONLIVINGAPARTMENTS_AVG     |69.43296337366793 |\n|NONLIVINGAPARTMENTS_MODE    |69.43296337366793 |\n|NONLIVINGAPARTMENTS_MEDI    |69.43296337366793 |\n|FONDKAPREMONT_MODE          |68.38617155158677 |\n|LIVINGAPARTMENTS_MODE       |68.35495315614726 |\n|LIVINGAPARTMENTS_AVG        |68.35495315614726 |\n|LIVINGAPARTMENTS_MEDI       |68.35495315614726 |\n|FLOORSMIN_AVG               |67.84862980511267 |\n|FLOORSMIN_MEDI              |67.84862980511267 |\n|FLOORSMIN_MODE              |67.84862980511267 |\n|YEARS_BUILD_MODE            |66.49778381911543 |\n|YEARS_BUILD_MEDI            |66.49778381911543 |\n|YEARS_BUILD_AVG             |66.49778381911543 |\n|OWN_CAR_AGE                 |65.9908100848425  |\n|LANDAREA_AVG                |59.376737742714894|\n|LANDAREA_MEDI               |59.376737742714894|\n|LANDAREA_MODE               |59.376737742714894|\n|BASEMENTAREA_MODE           |58.51595552679416 |\n|BASEMENTAREA_AVG            |58.51595552679416 |\n|BASEMENTAREA_MEDI           |58.51595552679416 |\n|EXT_SOURCE_1                |56.381072546998325|\n|NONLIVINGAREA_AVG           |55.17916432257708 |\n|NONLIVINGAREA_MEDI          |55.17916432257708 |\n|NONLIVINGAREA_MODE          |55.17916432257708 |\n|ELEVATORS_MEDI              |53.29597965601231 |\n|ELEVATORS_AVG               |53.29597965601231 |\n|ELEVATORS_MODE              |53.29597965601231 |\n|WALLSMATERIAL_MODE          |50.8407829313423  |\n|APARTMENTS_MODE             |50.74972927797705 |\n|APARTMENTS_AVG              |50.74972927797705 |\n|APARTMENTS_MEDI             |50.74972927797705 |\n|ENTRANCES_MEDI              |50.3487680115508  |\n|ENTRANCES_MODE              |50.3487680115508  |\n|ENTRANCES_AVG               |50.3487680115508  |\n|LIVINGAREA_MODE             |50.193326417591564|\n|LIVINGAREA_AVG              |50.193326417591564|\n|LIVINGAREA_MEDI             |50.193326417591564|\n|HOUSETYPE_MODE              |50.176091261776   |\n|FLOORSMAX_MEDI              |49.76082156410665 |\n|FLOORSMAX_MODE              |49.76082156410665 |\n|FLOORSMAX_AVG               |49.76082156410665 |\n|YEARS_BEGINEXPLUATATION_MODE|48.781019215572776|\n|YEARS_BEGINEXPLUATATION_MEDI|48.781019215572776|\n|YEARS_BEGINEXPLUATATION_AVG |48.781019215572776|\n|TOTALAREA_MODE              |48.26851722377411 |\n|EMERGENCYSTATE_MODE         |47.39830445089769 |\n|OCCUPATION_TYPE             |31.345545362604916|\n+----------------------------+------------------+\nonly showing top 50 rows\n"
     ]
    }
   ],
   "source": [
    "from pyspark.sql.functions import col, count, when, lit, explode, array, map_from_arrays\n",
    "\n",
    "# Total row count\n",
    "total_rows = application_df.count()\n",
    "\n",
    "# Null percentage calculation for each column\n",
    "null_percent_df = application_df.select([\n",
    "    (count(when(col(c).isNull(), c)) / total_rows * 100).alias(c)\n",
    "    for c in application_df.columns\n",
    "])\n",
    "\n",
    "# Convert to (column_name, null_percent) format\n",
    "nulls_long = null_percent_df.select(\n",
    "    explode(\n",
    "        map_from_arrays(\n",
    "            array([lit(c) for c in null_percent_df.columns]),\n",
    "            array([col(c) for c in null_percent_df.columns])\n",
    "        )\n",
    "    ).alias(\"column\", \"null_percent\")\n",
    ")\n",
    "\n",
    "# Sort and display top nulls\n",
    "nulls_long.orderBy(\"null_percent\", ascending=False).show(50, truncate=False)"
   ]
  },
  {
   "cell_type": "code",
   "execution_count": 0,
   "metadata": {
    "application/vnd.databricks.v1+cell": {
     "cellMetadata": {
      "byteLimit": 2048000,
      "rowLimit": 10000
     },
     "inputWidgets": {},
     "nuid": "71a63e3c-2a8e-4624-96bd-f27ca7f217f1",
     "showTitle": false,
     "tableResultSettingsMap": {},
     "title": ""
    }
   },
   "outputs": [
    {
     "output_type": "stream",
     "name": "stdout",
     "output_type": "stream",
     "text": [
      "+------+------+\n|TARGET| count|\n+------+------+\n|     1| 24825|\n|     0|282686|\n+------+------+\n\n"
     ]
    }
   ],
   "source": [
    "# Class distribution\n",
    "application_df.groupBy(\"TARGET\").count().show()"
   ]
  },
  {
   "cell_type": "code",
   "execution_count": 0,
   "metadata": {
    "application/vnd.databricks.v1+cell": {
     "cellMetadata": {
      "byteLimit": 2048000,
      "rowLimit": 10000
     },
     "inputWidgets": {},
     "nuid": "600dfade-36ae-46d4-87b9-ef114dee995d",
     "showTitle": false,
     "tableResultSettingsMap": {},
     "title": ""
    }
   },
   "outputs": [
    {
     "output_type": "display_data",
     "data": {
      "image/png": "[encoded data removed]",
      "text/plain": [
       "<Figure size 640x480 with 1 Axes>"
      ]
     },
     "metadata": {},
     "output_type": "display_data"
    }
   ],
   "source": [
    "target_pdf = application_df.select(\"TARGET\").dropna().toPandas()\n",
    "\n",
    "import matplotlib.pyplot as plt\n",
    "import seaborn as sns\n",
    "\n",
    "sns.countplot(data=target_pdf, x=\"TARGET\", palette=\"deep\")\n",
    "plt.title(\"Loan Default Distribution\")\n",
    "plt.xlabel(\"TARGET (0 = No Default, 1 = Default)\")\n",
    "plt.ylabel(\"Count\")\n",
    "plt.show()"
   ]
  },
  {
   "cell_type": "code",
   "execution_count": 0,
   "metadata": {
    "application/vnd.databricks.v1+cell": {
     "cellMetadata": {},
     "inputWidgets": {},
     "nuid": "91886480-8475-48c9-85db-55423af54650",
     "showTitle": false,
     "tableResultSettingsMap": {},
     "title": ""
    }
   },
   "outputs": [],
   "source": []
  }
 ],
 "metadata": {
  "application/vnd.databricks.v1+notebook": {
   "computePreferences": null,
   "dashboards": [],
   "environmentMetadata": {
    "base_environment": "",
    "environment_version": "2"
   },
   "inputWidgetPreferences": null,
   "language": "python",
   "notebookMetadata": {
    "pythonIndentUnit": 4
   },
   "notebookName": "01_exploratory_data_analysis",
   "widgets": {}
  },
  "language_info": {
   "name": "python"
  }
 },
 "nbformat": 4,
 "nbformat_minor": 0
}