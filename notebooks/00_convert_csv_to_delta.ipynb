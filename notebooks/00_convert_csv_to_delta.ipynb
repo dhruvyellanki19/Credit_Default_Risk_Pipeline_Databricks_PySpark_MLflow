{
 "cells": [
  {
   "cell_type": "code",
   "execution_count": 0,
   "metadata": {
    "application/vnd.databricks.v1+cell": {
     "cellMetadata": {
      "byteLimit": 2048000,
      "rowLimit": 10000
     },
     "inputWidgets": {},
     "nuid": "c677c0e6-ea6b-4ea1-bec5-87b25fcb6c7f",
     "showTitle": false,
     "tableResultSettingsMap": {},
     "title": ""
    }
   },
   "outputs": [
    {
     "output_type": "execute_result",
     "data": {
      "text/plain": [
       "<pyspark.sql.connect.session.SparkSession at 0xfffe35150850>"
      ]
     },
     "execution_count": 39,
     "metadata": {},
     "output_type": "execute_result"
    }
   ],
   "source": [
    "from pyspark.sql import SparkSession\n",
    "import os\n",
    "spark = SparkSession.builder.appName(\"csv_to_parquet\").getOrCreate()\n",
    "spark"
   ]
  },
  {
   "cell_type": "code",
   "execution_count": 0,
   "metadata": {
    "application/vnd.databricks.v1+cell": {
     "cellMetadata": {
      "byteLimit": 2048000,
      "rowLimit": 10000
     },
     "inputWidgets": {},
     "nuid": "01c01321-12d0-45a5-985e-5b5dc6bdf9cf",
     "showTitle": false,
     "tableResultSettingsMap": {},
     "title": ""
    }
   },
   "outputs": [],
   "source": [
    "\n",
    "input_path = 'workspace.credit_default_risk_prediction_data'\n",
    "output_path = 'workspace.credit_risk_data_delta'"
   ]
  },
  {
   "cell_type": "code",
   "execution_count": 0,
   "metadata": {
    "application/vnd.databricks.v1+cell": {
     "cellMetadata": {
      "byteLimit": 2048000,
      "rowLimit": 10000
     },
     "inputWidgets": {},
     "nuid": "2b73f2f5-a0e7-4a88-966b-74141d8dfd40",
     "showTitle": false,
     "tableResultSettingsMap": {},
     "title": ""
    }
   },
   "outputs": [],
   "source": [
    "tables = [\n",
    "    \"application_train\", \"application_test\", \"bureau\", \"bureau_balance\",\n",
    "    \"credit_card_balance\", \"installments_payments\", \"pos_cash_balance\",\n",
    "    \"previous_application\", \"home_credit_columns_description\", \"sample_submission\"\n",
    "]"
   ]
  },
  {
   "cell_type": "code",
   "execution_count": 0,
   "metadata": {
    "application/vnd.databricks.v1+cell": {
     "cellMetadata": {
      "byteLimit": 2048000,
      "rowLimit": 10000
     },
     "inputWidgets": {},
     "nuid": "93163c70-ef02-40d9-a772-0a24229fe7ba",
     "showTitle": true,
     "tableResultSettingsMap": {},
     "title": "ab"
    }
   },
   "outputs": [
    {
     "output_type": "stream",
     "name": "stdout",
     "output_type": "stream",
     "text": [
      "Reading from: workspace.credit_default_risk_prediction_data.application_train\nWriting to Delta table: workspace.credit_risk_data_delta.application_train\nConverted to Delta: workspace.credit_risk_data_delta.application_train\nReading from: workspace.credit_default_risk_prediction_data.application_test\nWriting to Delta table: workspace.credit_risk_data_delta.application_test\nConverted to Delta: workspace.credit_risk_data_delta.application_test\nReading from: workspace.credit_default_risk_prediction_data.bureau\nWriting to Delta table: workspace.credit_risk_data_delta.bureau\nConverted to Delta: workspace.credit_risk_data_delta.bureau\nReading from: workspace.credit_default_risk_prediction_data.bureau_balance\nWriting to Delta table: workspace.credit_risk_data_delta.bureau_balance\nConverted to Delta: workspace.credit_risk_data_delta.bureau_balance\nReading from: workspace.credit_default_risk_prediction_data.credit_card_balance\nWriting to Delta table: workspace.credit_risk_data_delta.credit_card_balance\nConverted to Delta: workspace.credit_risk_data_delta.credit_card_balance\nReading from: workspace.credit_default_risk_prediction_data.installments_payments\nWriting to Delta table: workspace.credit_risk_data_delta.installments_payments\nConverted to Delta: workspace.credit_risk_data_delta.installments_payments\nReading from: workspace.credit_default_risk_prediction_data.pos_cash_balance\nWriting to Delta table: workspace.credit_risk_data_delta.pos_cash_balance\nConverted to Delta: workspace.credit_risk_data_delta.pos_cash_balance\nReading from: workspace.credit_default_risk_prediction_data.previous_application\nWriting to Delta table: workspace.credit_risk_data_delta.previous_application\nConverted to Delta: workspace.credit_risk_data_delta.previous_application\nReading from: workspace.credit_default_risk_prediction_data.home_credit_columns_description\nWriting to Delta table: workspace.credit_risk_data_delta.home_credit_columns_description\nConverted to Delta: workspace.credit_risk_data_delta.home_credit_columns_description\nReading from: workspace.credit_default_risk_prediction_data.sample_submission\nWriting to Delta table: workspace.credit_risk_data_delta.sample_submission\nConverted to Delta: workspace.credit_risk_data_delta.sample_submission\n"
     ]
    }
   ],
   "source": [
    "for table in tables:\n",
    "    full_input = f\"{input_path}.{table}\"\n",
    "    full_output = f\"{output_path}.{table}\"\n",
    "\n",
    "    print(f\"Reading from: {full_input}\")\n",
    "    df = spark.table(full_input)\n",
    "\n",
    "    print(f\"Writing to Delta table: {full_output}\")\n",
    "    df.write.mode(\"overwrite\").format(\"delta\").saveAsTable(full_output)\n",
    "\n",
    "    print(f\"Converted to Delta: {full_output}\")\n"
   ]
  },
  {
   "cell_type": "code",
   "execution_count": 0,
   "metadata": {
    "application/vnd.databricks.v1+cell": {
     "cellMetadata": {},
     "inputWidgets": {},
     "nuid": "d0ab1ca1-c978-430f-ade7-58497830c565",
     "showTitle": false,
     "tableResultSettingsMap": {},
     "title": ""
    }
   },
   "outputs": [],
   "source": []
  }
 ],
 "metadata": {
  "application/vnd.databricks.v1+notebook": {
   "computePreferences": null,
   "dashboards": [],
   "environmentMetadata": {
    "base_environment": "",
    "environment_version": "2"
   },
   "inputWidgetPreferences": null,
   "language": "python",
   "notebookMetadata": {
    "pythonIndentUnit": 4
   },
   "notebookName": "00_convert_csv_to_delta",
   "widgets": {}
  },
  "language_info": {
   "name": "python"
  }
 },
 "nbformat": 4,
 "nbformat_minor": 0
}